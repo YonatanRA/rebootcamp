{
 "cells": [
  {
   "cell_type": "markdown",
   "metadata": {},
   "source": [
    "# QGrid"
   ]
  },
  {
   "cell_type": "code",
   "execution_count": 1,
   "metadata": {},
   "outputs": [],
   "source": [
    "import pandas as pd\n",
    "import numpy as np\n",
    "import string"
   ]
  },
  {
   "cell_type": "code",
   "execution_count": 2,
   "metadata": {},
   "outputs": [
    {
     "data": {
      "text/html": [
       "<div>\n",
       "<style scoped>\n",
       "    .dataframe tbody tr th:only-of-type {\n",
       "        vertical-align: middle;\n",
       "    }\n",
       "\n",
       "    .dataframe tbody tr th {\n",
       "        vertical-align: top;\n",
       "    }\n",
       "\n",
       "    .dataframe thead th {\n",
       "        text-align: right;\n",
       "    }\n",
       "</style>\n",
       "<table border=\"1\" class=\"dataframe\">\n",
       "  <thead>\n",
       "    <tr style=\"text-align: right;\">\n",
       "      <th></th>\n",
       "      <th>school</th>\n",
       "      <th>sex</th>\n",
       "      <th>age</th>\n",
       "      <th>address</th>\n",
       "      <th>famsize</th>\n",
       "      <th>Pstatus</th>\n",
       "      <th>Medu</th>\n",
       "      <th>Fedu</th>\n",
       "      <th>Mjob</th>\n",
       "      <th>Fjob</th>\n",
       "      <th>...</th>\n",
       "      <th>famrel</th>\n",
       "      <th>freetime</th>\n",
       "      <th>goout</th>\n",
       "      <th>Dalc</th>\n",
       "      <th>Walc</th>\n",
       "      <th>health</th>\n",
       "      <th>absences</th>\n",
       "      <th>G1</th>\n",
       "      <th>G2</th>\n",
       "      <th>G3</th>\n",
       "    </tr>\n",
       "  </thead>\n",
       "  <tbody>\n",
       "    <tr>\n",
       "      <th>0</th>\n",
       "      <td>GP</td>\n",
       "      <td>F</td>\n",
       "      <td>18</td>\n",
       "      <td>U</td>\n",
       "      <td>GT3</td>\n",
       "      <td>A</td>\n",
       "      <td>4</td>\n",
       "      <td>4</td>\n",
       "      <td>at_home</td>\n",
       "      <td>teacher</td>\n",
       "      <td>...</td>\n",
       "      <td>4</td>\n",
       "      <td>3</td>\n",
       "      <td>4</td>\n",
       "      <td>1</td>\n",
       "      <td>1</td>\n",
       "      <td>3</td>\n",
       "      <td>4</td>\n",
       "      <td>0</td>\n",
       "      <td>11</td>\n",
       "      <td>11</td>\n",
       "    </tr>\n",
       "    <tr>\n",
       "      <th>1</th>\n",
       "      <td>GP</td>\n",
       "      <td>F</td>\n",
       "      <td>17</td>\n",
       "      <td>U</td>\n",
       "      <td>GT3</td>\n",
       "      <td>T</td>\n",
       "      <td>1</td>\n",
       "      <td>1</td>\n",
       "      <td>at_home</td>\n",
       "      <td>other</td>\n",
       "      <td>...</td>\n",
       "      <td>5</td>\n",
       "      <td>3</td>\n",
       "      <td>3</td>\n",
       "      <td>1</td>\n",
       "      <td>1</td>\n",
       "      <td>3</td>\n",
       "      <td>2</td>\n",
       "      <td>9</td>\n",
       "      <td>11</td>\n",
       "      <td>11</td>\n",
       "    </tr>\n",
       "    <tr>\n",
       "      <th>2</th>\n",
       "      <td>GP</td>\n",
       "      <td>F</td>\n",
       "      <td>15</td>\n",
       "      <td>U</td>\n",
       "      <td>LE3</td>\n",
       "      <td>T</td>\n",
       "      <td>1</td>\n",
       "      <td>1</td>\n",
       "      <td>at_home</td>\n",
       "      <td>other</td>\n",
       "      <td>...</td>\n",
       "      <td>4</td>\n",
       "      <td>3</td>\n",
       "      <td>2</td>\n",
       "      <td>2</td>\n",
       "      <td>3</td>\n",
       "      <td>3</td>\n",
       "      <td>6</td>\n",
       "      <td>12</td>\n",
       "      <td>13</td>\n",
       "      <td>12</td>\n",
       "    </tr>\n",
       "    <tr>\n",
       "      <th>3</th>\n",
       "      <td>GP</td>\n",
       "      <td>F</td>\n",
       "      <td>15</td>\n",
       "      <td>U</td>\n",
       "      <td>GT3</td>\n",
       "      <td>T</td>\n",
       "      <td>4</td>\n",
       "      <td>2</td>\n",
       "      <td>health</td>\n",
       "      <td>services</td>\n",
       "      <td>...</td>\n",
       "      <td>3</td>\n",
       "      <td>2</td>\n",
       "      <td>2</td>\n",
       "      <td>1</td>\n",
       "      <td>1</td>\n",
       "      <td>5</td>\n",
       "      <td>0</td>\n",
       "      <td>14</td>\n",
       "      <td>14</td>\n",
       "      <td>14</td>\n",
       "    </tr>\n",
       "    <tr>\n",
       "      <th>4</th>\n",
       "      <td>GP</td>\n",
       "      <td>F</td>\n",
       "      <td>16</td>\n",
       "      <td>U</td>\n",
       "      <td>GT3</td>\n",
       "      <td>T</td>\n",
       "      <td>3</td>\n",
       "      <td>3</td>\n",
       "      <td>other</td>\n",
       "      <td>other</td>\n",
       "      <td>...</td>\n",
       "      <td>4</td>\n",
       "      <td>3</td>\n",
       "      <td>2</td>\n",
       "      <td>1</td>\n",
       "      <td>2</td>\n",
       "      <td>5</td>\n",
       "      <td>0</td>\n",
       "      <td>11</td>\n",
       "      <td>13</td>\n",
       "      <td>13</td>\n",
       "    </tr>\n",
       "  </tbody>\n",
       "</table>\n",
       "<p>5 rows × 33 columns</p>\n",
       "</div>"
      ],
      "text/plain": [
       "  school sex  age address famsize Pstatus  Medu  Fedu     Mjob      Fjob  ...  \\\n",
       "0     GP   F   18       U     GT3       A     4     4  at_home   teacher  ...   \n",
       "1     GP   F   17       U     GT3       T     1     1  at_home     other  ...   \n",
       "2     GP   F   15       U     LE3       T     1     1  at_home     other  ...   \n",
       "3     GP   F   15       U     GT3       T     4     2   health  services  ...   \n",
       "4     GP   F   16       U     GT3       T     3     3    other     other  ...   \n",
       "\n",
       "  famrel freetime  goout  Dalc  Walc health absences  G1  G2  G3  \n",
       "0      4        3      4     1     1      3        4   0  11  11  \n",
       "1      5        3      3     1     1      3        2   9  11  11  \n",
       "2      4        3      2     2     3      3        6  12  13  12  \n",
       "3      3        2      2     1     1      5        0  14  14  14  \n",
       "4      4        3      2     1     2      5        0  11  13  13  \n",
       "\n",
       "[5 rows x 33 columns]"
      ]
     },
     "execution_count": 2,
     "metadata": {},
     "output_type": "execute_result"
    }
   ],
   "source": [
    "df=pd.read_csv('datasets/student-por.csv', sep=';')\n",
    "df.head()"
   ]
  },
  {
   "cell_type": "raw",
   "metadata": {},
   "source": [
    "!pip3 install qgrid"
   ]
  },
  {
   "cell_type": "code",
   "execution_count": 3,
   "metadata": {},
   "outputs": [],
   "source": [
    "import qgrid"
   ]
  },
  {
   "cell_type": "code",
   "execution_count": 4,
   "metadata": {},
   "outputs": [
    {
     "data": {
      "application/vnd.jupyter.widget-view+json": {
       "model_id": "fbf8395d032349a0ac1675dd47c0db13",
       "version_major": 2,
       "version_minor": 0
      },
      "text/plain": [
       "QgridWidget(grid_options={'fullWidthRows': True, 'syncColumnCellResize': True, 'forceFitColumns': True, 'defau…"
      ]
     },
     "metadata": {},
     "output_type": "display_data"
    }
   ],
   "source": [
    "q_df=qgrid.show_grid(df, show_toolbar=True)\n",
    "q_df"
   ]
  },
  {
   "cell_type": "markdown",
   "metadata": {},
   "source": [
    "# iTables"
   ]
  },
  {
   "cell_type": "raw",
   "metadata": {},
   "source": [
    "!pip3 install itables"
   ]
  },
  {
   "cell_type": "code",
   "execution_count": 5,
   "metadata": {},
   "outputs": [
    {
     "data": {
      "application/javascript": [
       "require.config({\n",
       "    paths: {\n",
       "        datatables: 'https://cdn.datatables.net/1.10.19/js/jquery.dataTables.min',\n",
       "    }\n",
       "});\n",
       "\n",
       "$('head').append('<link rel=\"stylesheet\" type=\"text/css\" \\\n",
       "                href = \"https://cdn.datatables.net/1.10.19/css/jquery.dataTables.min.css\" > ');\n",
       "\n",
       "$('head').append('<style> table td { text-overflow: ellipsis; overflow: hidden; } </style>');\n",
       "\n",
       "$('head').append(`<script>\n",
       "function eval_functions(map_or_text) {\n",
       "    if (typeof map_or_text === \"string\") {\n",
       "        if (map_or_text.startsWith(\"function\")) {\n",
       "            try {\n",
       "                // Note: parenthesis are required around the whole expression for eval to return a value!\n",
       "                // See https://stackoverflow.com/a/7399078/911298.\n",
       "                //\n",
       "                // eval(\"local_fun = \" + map_or_text) would fail because local_fun is not declared\n",
       "                // (using var, let or const would work, but it would only be declared in the local scope\n",
       "                // and therefore the value could not be retrieved).\n",
       "                const func = eval(\"(\" + map_or_text + \")\");\n",
       "                if (typeof func !== \"function\") {\n",
       "                    // Note: backquotes are super convenient!\n",
       "                    // https://developer.mozilla.org/en-US/docs/Web/JavaScript/Reference/Template_literals\n",
       "                    console.error(\"Evaluated expression \" + map_or_text + \" is not a function (type is \" + typeof func + \")\");\n",
       "                    return map_or_text;\n",
       "                }\n",
       "                // Return the function\n",
       "                return func;\n",
       "            } catch (e) {\n",
       "                // Make sure to print the error with a second argument to console.error().\n",
       "                console.error(\"itables was not able to parse \" + map_or_text, e);\n",
       "            }\n",
       "        }\n",
       "    } else if (typeof map_or_text === \"object\") {\n",
       "        if (map_or_text instanceof Array) {\n",
       "            // Note: \"var\" is now superseded by \"let\" and \"const\".\n",
       "            // https://medium.com/javascript-scene/javascript-es6-var-let-or-const-ba58b8dcde75\n",
       "            const result = [];\n",
       "            // Note: \"for of\" is the best way to iterate through an iterable.\n",
       "            // https://developer.mozilla.org/en-US/docs/Web/JavaScript/Reference/Statements/for...of\n",
       "            for (const item of map_or_text) {\n",
       "                result.push(eval_functions(item));\n",
       "            }\n",
       "            return result;\n",
       "\n",
       "            // Alternatively, more functional approach in one line:\n",
       "            // return map_or_text.map(eval_functions);\n",
       "        } else {\n",
       "            const result = {};\n",
       "            // Object.keys() is safer than \"for in\" because otherwise you might have keys\n",
       "            // that aren't defined in the object itself.\n",
       "            //\n",
       "            // See https://stackoverflow.com/a/684692/911298.\n",
       "            for (const item of Object.keys(map_or_text)) {\n",
       "                result[item] = eval_functions(map_or_text[item]);\n",
       "            }\n",
       "            return result;\n",
       "        }\n",
       "    }\n",
       "\n",
       "    return map_or_text;\n",
       "}\n",
       "\n",
       "</` + 'script>');"
      ],
      "text/plain": [
       "<IPython.core.display.Javascript object>"
      ]
     },
     "metadata": {},
     "output_type": "display_data"
    }
   ],
   "source": [
    "from itables import init_notebook_mode\n",
    "init_notebook_mode(all_interactive=True)\n",
    "\n",
    "from itables import show\n",
    "\n",
    "import world_bank_data as wb"
   ]
  },
  {
   "cell_type": "code",
   "execution_count": 6,
   "metadata": {},
   "outputs": [
    {
     "data": {
      "text/html": [
       "<div><table id=\"6bf8bbd6-30dd-4bcf-8f29-71de0d5be640\" class=\"display\"><thead>\n",
       "    <tr style=\"text-align: right;\">\n",
       "      <th></th>\n",
       "      <th>iso2Code</th>\n",
       "      <th>name</th>\n",
       "      <th>region</th>\n",
       "      <th>adminregion</th>\n",
       "      <th>incomeLevel</th>\n",
       "      <th>lendingType</th>\n",
       "      <th>capitalCity</th>\n",
       "      <th>longitude</th>\n",
       "      <th>latitude</th>\n",
       "    </tr>\n",
       "    <tr>\n",
       "      <th>id</th>\n",
       "      <th></th>\n",
       "      <th></th>\n",
       "      <th></th>\n",
       "      <th></th>\n",
       "      <th></th>\n",
       "      <th></th>\n",
       "      <th></th>\n",
       "      <th></th>\n",
       "      <th></th>\n",
       "    </tr>\n",
       "  </thead></table>\n",
       "<script type=\"text/javascript\">\n",
       "require([\"datatables\"], function (datatables) {\n",
       "    $(document).ready(function () {\n",
       "        var dt_args = {\"columnDefs\": [{\"width\": \"70px\", \"targets\": \"_all\"}], \"data\": [[\"ABW\", \"AW\", \"Aruba\", \"Latin America & Caribbean \", \"\", \"High income\", \"Not classified\", \"Oranjestad\", -70.0167, 12.5167], [\"AFG\", \"AF\", \"Afghanistan\", \"South Asia\", \"South Asia\", \"Low income\", \"IDA\", \"Kabul\", 69.1761, 34.5228], [\"AFR\", \"A9\", \"Africa\", \"Aggregates\", \"\", \"Aggregates\", \"Aggregates\", \"\", NaN, NaN], [\"AGO\", \"AO\", \"Angola\", \"Sub-Saharan Africa \", \"Sub-Saharan Africa (excluding high income)\", \"Lower middle income\", \"IBRD\", \"Luanda\", 13.242, -8.81155], [\"ALB\", \"AL\", \"Albania\", \"Europe & Central Asia\", \"Europe & Central Asia (excluding high income)\", \"Upper middle income\", \"IBRD\", \"Tirane\", 19.8172, 41.3317], [\"AND\", \"AD\", \"Andorra\", \"Europe & Central Asia\", \"\", \"High income\", \"Not classified\", \"Andorra la Vella\", 1.5218, 42.5075], [\"ARB\", \"1A\", \"Arab World\", \"Aggregates\", \"\", \"Aggregates\", \"Aggregates\", \"\", NaN, NaN], [\"ARE\", \"AE\", \"United Arab Emirates\", \"Middle East & North Africa\", \"\", \"High income\", \"Not classified\", \"Abu Dhabi\", 54.3705, 24.4764], [\"ARG\", \"AR\", \"Argentina\", \"Latin America & Caribbean \", \"Latin America & Caribbean (excluding high income)\", \"Upper middle income\", \"IBRD\", \"Buenos Aires\", -58.4173, -34.6118], [\"ARM\", \"AM\", \"Armenia\", \"Europe & Central Asia\", \"Europe & Central Asia (excluding high income)\", \"Upper middle income\", \"IBRD\", \"Yerevan\", 44.509, 40.1596], [\"ASM\", \"AS\", \"American Samoa\", \"East Asia & Pacific\", \"East Asia & Pacific (excluding high income)\", \"Upper middle income\", \"Not classified\", \"Pago Pago\", -170.691, -14.2846], [\"ATG\", \"AG\", \"Antigua and Barbuda\", \"Latin America & Caribbean \", \"\", \"High income\", \"IBRD\", \"Saint John's\", -61.8456, 17.1175], [\"AUS\", \"AU\", \"Australia\", \"East Asia & Pacific\", \"\", \"High income\", \"Not classified\", \"Canberra\", 149.129, -35.282], [\"AUT\", \"AT\", \"Austria\", \"Europe & Central Asia\", \"\", \"High income\", \"Not classified\", \"Vienna\", 16.3798, 48.2201], [\"AZE\", \"AZ\", \"Azerbaijan\", \"Europe & Central Asia\", \"Europe & Central Asia (excluding high income)\", \"Upper middle income\", \"IBRD\", \"Baku\", 49.8932, 40.3834], [\"BDI\", \"BI\", \"Burundi\", \"Sub-Saharan Africa \", \"Sub-Saharan Africa (excluding high income)\", \"Low income\", \"IDA\", \"Bujumbura\", 29.3639, -3.3784], [\"BEA\", \"B4\", \"East Asia & Pacific (IBRD-only countries)\", \"Aggregates\", \"\", \"Aggregates\", \"Aggregates\", \"\", NaN, NaN], [\"BEC\", \"B7\", \"Europe & Central Asia (IBRD-only countries)\", \"Aggregates\", \"\", \"Aggregates\", \"Aggregates\", \"\", NaN, NaN], [\"BEL\", \"BE\", \"Belgium\", \"Europe & Central Asia\", \"\", \"High income\", \"Not classified\", \"Brussels\", 4.36761, 50.8371], [\"BEN\", \"BJ\", \"Benin\", \"Sub-Saharan Africa \", \"Sub-Saharan Africa (excluding high income)\", \"Lower middle income\", \"IDA\", \"Porto-Novo\", 2.6323, 6.4779], [\"BFA\", \"BF\", \"Burkina Faso\", \"Sub-Saharan Africa \", \"Sub-Saharan Africa (excluding high income)\", \"Low income\", \"IDA\", \"Ouagadougou\", -1.53395, 12.3605], [\"BGD\", \"BD\", \"Bangladesh\", \"South Asia\", \"South Asia\", \"Lower middle income\", \"IDA\", \"Dhaka\", 90.4113, 23.7055], [\"BGR\", \"BG\", \"Bulgaria\", \"Europe & Central Asia\", \"Europe & Central Asia (excluding high income)\", \"Upper middle income\", \"IBRD\", \"Sofia\", 23.3238, 42.7105], [\"BHI\", \"B1\", \"IBRD countries classified as high income\", \"Aggregates\", \"\", \"Aggregates\", \"Aggregates\", \"\", NaN, NaN], [\"BHR\", \"BH\", \"Bahrain\", \"Middle East & North Africa\", \"\", \"High income\", \"Not classified\", \"Manama\", 50.5354, 26.1921], [\"BHS\", \"BS\", \"Bahamas, The\", \"Latin America & Caribbean \", \"\", \"High income\", \"Not classified\", \"Nassau\", -77.339, 25.0661], [\"BIH\", \"BA\", \"Bosnia and Herzegovina\", \"Europe & Central Asia\", \"Europe & Central Asia (excluding high income)\", \"Upper middle income\", \"IBRD\", \"Sarajevo\", 18.4214, 43.8607], [\"BLA\", \"B2\", \"Latin America & the Caribbean (IBRD-only countries)\", \"Aggregates\", \"\", \"Aggregates\", \"Aggregates\", \"\", NaN, NaN], [\"BLR\", \"BY\", \"Belarus\", \"Europe & Central Asia\", \"Europe & Central Asia (excluding high income)\", \"Upper middle income\", \"IBRD\", \"Minsk\", 27.5766, 53.9678], [\"BLZ\", \"BZ\", \"Belize\", \"Latin America & Caribbean \", \"Latin America & Caribbean (excluding high income)\", \"Upper middle income\", \"IBRD\", \"Belmopan\", -88.7713, 17.2534], [\"BMN\", \"B3\", \"Middle East & North Africa (IBRD-only countries)\", \"Aggregates\", \"\", \"Aggregates\", \"Aggregates\", \"\", NaN, NaN], [\"BMU\", \"BM\", \"Bermuda\", \"North America\", \"\", \"High income\", \"Not classified\", \"Hamilton\", -64.706, 32.3293], [\"BOL\", \"BO\", \"Bolivia\", \"Latin America & Caribbean \", \"Latin America & Caribbean (excluding high income)\", \"Lower middle income\", \"IBRD\", \"La Paz\", -66.1936, -13.9908], [\"BRA\", \"BR\", \"Brazil\", \"Latin America & Caribbean \", \"Latin America & Caribbean (excluding high income)\", \"Upper middle income\", \"IBRD\", \"Brasilia\", -47.9292, -15.7801], [\"BRB\", \"BB\", \"Barbados\", \"Latin America & Caribbean \", \"\", \"High income\", \"Not classified\", \"Bridgetown\", -59.6105, 13.0935], [\"BRN\", \"BN\", \"Brunei Darussalam\", \"East Asia & Pacific\", \"\", \"High income\", \"Not classified\", \"Bandar Seri Begawan\", 114.946, 4.94199], [\"BSS\", \"B6\", \"Sub-Saharan Africa (IBRD-only countries)\", \"Aggregates\", \"\", \"Aggregates\", \"Aggregates\", \"\", NaN, NaN], [\"BTN\", \"BT\", \"Bhutan\", \"South Asia\", \"South Asia\", \"Lower middle income\", \"IDA\", \"Thimphu\", 89.6177, 27.5768], [\"BWA\", \"BW\", \"Botswana\", \"Sub-Saharan Africa \", \"Sub-Saharan Africa (excluding high income)\", \"Upper middle income\", \"IBRD\", \"Gaborone\", 25.9201, -24.6544], [\"CAA\", \"C9\", \"Sub-Saharan Africa (IFC classification)\", \"Aggregates\", \"\", \"Aggregates\", \"Aggregates\", \"\", NaN, NaN], [\"CAF\", \"CF\", \"Central African Republic\", \"Sub-Saharan Africa \", \"Sub-Saharan Africa (excluding high income)\", \"Low income\", \"IDA\", \"Bangui\", 21.6407, 5.63056], [\"CAN\", \"CA\", \"Canada\", \"North America\", \"\", \"High income\", \"Not classified\", \"Ottawa\", -75.6919, 45.4215], [\"CEA\", \"C4\", \"East Asia and the Pacific (IFC classification)\", \"Aggregates\", \"\", \"Aggregates\", \"Aggregates\", \"\", NaN, NaN], [\"CEB\", \"B8\", \"Central Europe and the Baltics\", \"Aggregates\", \"\", \"Aggregates\", \"Aggregates\", \"\", NaN, NaN], [\"CEU\", \"C5\", \"Europe and Central Asia (IFC classification)\", \"Aggregates\", \"\", \"Aggregates\", \"Aggregates\", \"\", NaN, NaN], [\"CHE\", \"CH\", \"Switzerland\", \"Europe & Central Asia\", \"\", \"High income\", \"Not classified\", \"Bern\", 7.44821, 46.948], [\"CHI\", \"JG\", \"Channel Islands\", \"Europe & Central Asia\", \"\", \"High income\", \"Not classified\", \"\", NaN, NaN], [\"CHL\", \"CL\", \"Chile\", \"Latin America & Caribbean \", \"\", \"High income\", \"IBRD\", \"Santiago\", -70.6475, -33.475], [\"CHN\", \"CN\", \"China\", \"East Asia & Pacific\", \"East Asia & Pacific (excluding high income)\", \"Upper middle income\", \"IBRD\", \"Beijing\", 116.286, 40.0495], [\"CIV\", \"CI\", \"Cote d'Ivoire\", \"Sub-Saharan Africa \", \"Sub-Saharan Africa (excluding high income)\", \"Lower middle income\", \"IDA\", \"Yamoussoukro\", -4.0305, 5.332], [\"CLA\", \"C6\", \"Latin America and the Caribbean (IFC classification)\", \"Aggregates\", \"\", \"Aggregates\", \"Aggregates\", \"\", NaN, NaN], [\"CME\", \"C7\", \"Middle East and North Africa (IFC classification)\", \"Aggregates\", \"\", \"Aggregates\", \"Aggregates\", \"\", NaN, NaN], [\"CMR\", \"CM\", \"Cameroon\", \"Sub-Saharan Africa \", \"Sub-Saharan Africa (excluding high income)\", \"Lower middle income\", \"Blend\", \"Yaounde\", 11.5174, 3.8721], [\"COD\", \"CD\", \"Congo, Dem. Rep.\", \"Sub-Saharan Africa \", \"Sub-Saharan Africa (excluding high income)\", \"Low income\", \"IDA\", \"Kinshasa\", 15.3222, -4.325], [\"COG\", \"CG\", \"Congo, Rep.\", \"Sub-Saharan Africa \", \"Sub-Saharan Africa (excluding high income)\", \"Lower middle income\", \"Blend\", \"Brazzaville\", 15.2662, -4.2767], [\"COL\", \"CO\", \"Colombia\", \"Latin America & Caribbean \", \"Latin America & Caribbean (excluding high income)\", \"Upper middle income\", \"IBRD\", \"Bogota\", -74.082, 4.60987], [\"COM\", \"KM\", \"Comoros\", \"Sub-Saharan Africa \", \"Sub-Saharan Africa (excluding high income)\", \"Lower middle income\", \"IDA\", \"Moroni\", 43.2418, -11.6986], [\"CPV\", \"CV\", \"Cabo Verde\", \"Sub-Saharan Africa \", \"Sub-Saharan Africa (excluding high income)\", \"Lower middle income\", \"Blend\", \"Praia\", -23.5087, 14.9218], [\"CRI\", \"CR\", \"Costa Rica\", \"Latin America & Caribbean \", \"Latin America & Caribbean (excluding high income)\", \"Upper middle income\", \"IBRD\", \"San Jose\", -84.0089, 9.63701], [\"CSA\", \"C8\", \"South Asia (IFC classification)\", \"Aggregates\", \"\", \"Aggregates\", \"Aggregates\", \"\", NaN, NaN], [\"CSS\", \"S3\", \"Caribbean small states\", \"Aggregates\", \"\", \"Aggregates\", \"Aggregates\", \"\", NaN, NaN], [\"CUB\", \"CU\", \"Cuba\", \"Latin America & Caribbean \", \"Latin America & Caribbean (excluding high income)\", \"Upper middle income\", \"Not classified\", \"Havana\", -82.3667, 23.1333], [\"CUW\", \"CW\", \"Curacao\", \"Latin America & Caribbean \", \"\", \"High income\", \"Not classified\", \"Willemstad\", NaN, NaN], [\"CYM\", \"KY\", \"Cayman Islands\", \"Latin America & Caribbean \", \"\", \"High income\", \"Not classified\", \"George Town\", -81.3857, 19.3022], [\"CYP\", \"CY\", \"Cyprus\", \"Europe & Central Asia\", \"\", \"High income\", \"Not classified\", \"Nicosia\", 33.3736, 35.1676], [\"CZE\", \"CZ\", \"Czech Republic\", \"Europe & Central Asia\", \"\", \"High income\", \"Not classified\", \"Prague\", 14.4205, 50.0878], [\"DEA\", \"D4\", \"East Asia & Pacific (IDA-eligible countries)\", \"Aggregates\", \"\", \"Aggregates\", \"Aggregates\", \"\", NaN, NaN], [\"DEC\", \"D7\", \"Europe & Central Asia (IDA-eligible countries)\", \"Aggregates\", \"\", \"Aggregates\", \"Aggregates\", \"\", NaN, NaN], [\"DEU\", \"DE\", \"Germany\", \"Europe & Central Asia\", \"\", \"High income\", \"Not classified\", \"Berlin\", 13.4115, 52.5235], [\"DFS\", \"D8\", \"IDA countries classified as Fragile Situations\", \"Aggregates\", \"\", \"Aggregates\", \"Aggregates\", \"\", NaN, NaN], [\"DJI\", \"DJ\", \"Djibouti\", \"Middle East & North Africa\", \"Middle East & North Africa (excluding high income)\", \"Lower middle income\", \"IDA\", \"Djibouti\", 43.1425, 11.5806], [\"DLA\", \"D2\", \"Latin America & the Caribbean (IDA-eligible countries)\", \"Aggregates\", \"\", \"Aggregates\", \"Aggregates\", \"\", NaN, NaN], [\"DMA\", \"DM\", \"Dominica\", \"Latin America & Caribbean \", \"Latin America & Caribbean (excluding high income)\", \"Upper middle income\", \"Blend\", \"Roseau\", -61.39, 15.2976], [\"DMN\", \"D3\", \"Middle East & North Africa (IDA-eligible countries)\", \"Aggregates\", \"\", \"Aggregates\", \"Aggregates\", \"\", NaN, NaN], [\"DNF\", \"D9\", \"IDA countries not classified as Fragile Situations\", \"Aggregates\", \"\", \"Aggregates\", \"Aggregates\", \"\", NaN, NaN], [\"DNK\", \"DK\", \"Denmark\", \"Europe & Central Asia\", \"\", \"High income\", \"Not classified\", \"Copenhagen\", 12.5681, 55.6763], [\"DNS\", \"N6\", \"IDA countries in Sub-Saharan Africa not classified as fragile situations \", \"Aggregates\", \"\", \"Aggregates\", \"Aggregates\", \"\", NaN, NaN], [\"DOM\", \"DO\", \"Dominican Republic\", \"Latin America & Caribbean \", \"Latin America & Caribbean (excluding high income)\", \"Upper middle income\", \"IBRD\", \"Santo Domingo\", -69.8908, 18.479], [\"DSA\", \"D5\", \"South Asia (IDA-eligible countries)\", \"Aggregates\", \"\", \"Aggregates\", \"Aggregates\", \"\", NaN, NaN], [\"DSF\", \"F6\", \"IDA countries in Sub-Saharan Africa classified as fragile situations \", \"Aggregates\", \"\", \"Aggregates\", \"Aggregates\", \"\", NaN, NaN], [\"DSS\", \"D6\", \"Sub-Saharan Africa (IDA-eligible countries)\", \"Aggregates\", \"\", \"Aggregates\", \"Aggregates\", \"\", NaN, NaN], [\"DZA\", \"DZ\", \"Algeria\", \"Middle East & North Africa\", \"Middle East & North Africa (excluding high income)\", \"Lower middle income\", \"IBRD\", \"Algiers\", 3.05097, 36.7397], [\"EAP\", \"4E\", \"East Asia & Pacific (excluding high income)\", \"Aggregates\", \"\", \"Aggregates\", \"Aggregates\", \"\", NaN, NaN], [\"EAR\", \"V2\", \"Early-demographic dividend\", \"Aggregates\", \"\", \"Aggregates\", \"Aggregates\", \"\", NaN, NaN], [\"EAS\", \"Z4\", \"East Asia & Pacific\", \"Aggregates\", \"\", \"Aggregates\", \"Aggregates\", \"\", NaN, NaN], [\"ECA\", \"7E\", \"Europe & Central Asia (excluding high income)\", \"Aggregates\", \"\", \"Aggregates\", \"Aggregates\", \"\", NaN, NaN], [\"ECS\", \"Z7\", \"Europe & Central Asia\", \"Aggregates\", \"\", \"Aggregates\", \"Aggregates\", \"\", NaN, NaN], [\"ECU\", \"EC\", \"Ecuador\", \"Latin America & Caribbean \", \"Latin America & Caribbean (excluding high income)\", \"Upper middle income\", \"IBRD\", \"Quito\", -78.5243, -0.229498], [\"EGY\", \"EG\", \"Egypt, Arab Rep.\", \"Middle East & North Africa\", \"Middle East & North Africa (excluding high income)\", \"Lower middle income\", \"IBRD\", \"Cairo\", 31.2461, 30.0982], [\"EMU\", \"XC\", \"Euro area\", \"Aggregates\", \"\", \"Aggregates\", \"Aggregates\", \"\", NaN, NaN], [\"ERI\", \"ER\", \"Eritrea\", \"Sub-Saharan Africa \", \"Sub-Saharan Africa (excluding high income)\", \"Low income\", \"IDA\", \"Asmara\", 38.9183, 15.3315], [\"ESP\", \"ES\", \"Spain\", \"Europe & Central Asia\", \"\", \"High income\", \"Not classified\", \"Madrid\", -3.70327, 40.4167], [\"EST\", \"EE\", \"Estonia\", \"Europe & Central Asia\", \"\", \"High income\", \"Not classified\", \"Tallinn\", 24.7586, 59.4392], [\"ETH\", \"ET\", \"Ethiopia\", \"Sub-Saharan Africa \", \"Sub-Saharan Africa (excluding high income)\", \"Low income\", \"IDA\", \"Addis Ababa\", 38.7468, 9.02274], [\"EUU\", \"EU\", \"European Union\", \"Aggregates\", \"\", \"Aggregates\", \"Aggregates\", \"\", NaN, NaN], [\"FCS\", \"F1\", \"Fragile and conflict affected situations\", \"Aggregates\", \"\", \"Aggregates\", \"Aggregates\", \"\", NaN, NaN], [\"FIN\", \"FI\", \"Finland\", \"Europe & Central Asia\", \"\", \"High income\", \"Not classified\", \"Helsinki\", 24.9525, 60.1608], [\"FJI\", \"FJ\", \"Fiji\", \"East Asia & Pacific\", \"East Asia & Pacific (excluding high income)\", \"Upper middle income\", \"Blend\", \"Suva\", 178.399, -18.1149], [\"FRA\", \"FR\", \"France\", \"Europe & Central Asia\", \"\", \"High income\", \"Not classified\", \"Paris\", 2.35097, 48.8566], [\"FRO\", \"FO\", \"Faroe Islands\", \"Europe & Central Asia\", \"\", \"High income\", \"Not classified\", \"Torshavn\", -6.91181, 61.8926], [\"FSM\", \"FM\", \"Micronesia, Fed. Sts.\", \"East Asia & Pacific\", \"East Asia & Pacific (excluding high income)\", \"Lower middle income\", \"IDA\", \"Palikir\", 158.185, 6.91771], [\"FXS\", \"6F\", \"IDA countries classified as fragile situations, excluding Sub-Saharan Africa\", \"Aggregates\", \"\", \"Aggregates\", \"Aggregates\", \"\", NaN, NaN], [\"GAB\", \"GA\", \"Gabon\", \"Sub-Saharan Africa \", \"Sub-Saharan Africa (excluding high income)\", \"Upper middle income\", \"IBRD\", \"Libreville\", 9.45162, 0.38832], [\"GBR\", \"GB\", \"United Kingdom\", \"Europe & Central Asia\", \"\", \"High income\", \"Not classified\", \"London\", -0.126236, 51.5002], [\"GEO\", \"GE\", \"Georgia\", \"Europe & Central Asia\", \"Europe & Central Asia (excluding high income)\", \"Upper middle income\", \"IBRD\", \"Tbilisi\", 44.793, 41.71], [\"GHA\", \"GH\", \"Ghana\", \"Sub-Saharan Africa \", \"Sub-Saharan Africa (excluding high income)\", \"Lower middle income\", \"IDA\", \"Accra\", -0.20795, 5.57045], [\"GIB\", \"GI\", \"Gibraltar\", \"Europe & Central Asia\", \"\", \"High income\", \"Not classified\", \"\", NaN, NaN], [\"GIN\", \"GN\", \"Guinea\", \"Sub-Saharan Africa \", \"Sub-Saharan Africa (excluding high income)\", \"Low income\", \"IDA\", \"Conakry\", -13.7, 9.51667], [\"GMB\", \"GM\", \"Gambia, The\", \"Sub-Saharan Africa \", \"Sub-Saharan Africa (excluding high income)\", \"Low income\", \"IDA\", \"Banjul\", -16.5885, 13.4495], [\"GNB\", \"GW\", \"Guinea-Bissau\", \"Sub-Saharan Africa \", \"Sub-Saharan Africa (excluding high income)\", \"Low income\", \"IDA\", \"Bissau\", -15.1804, 11.8037], [\"GNQ\", \"GQ\", \"Equatorial Guinea\", \"Sub-Saharan Africa \", \"Sub-Saharan Africa (excluding high income)\", \"Upper middle income\", \"IBRD\", \"Malabo\", 8.7741, 3.7523], [\"GRC\", \"GR\", \"Greece\", \"Europe & Central Asia\", \"\", \"High income\", \"Not classified\", \"Athens\", 23.7166, 37.9792], [\"GRD\", \"GD\", \"Grenada\", \"Latin America & Caribbean \", \"Latin America & Caribbean (excluding high income)\", \"Upper middle income\", \"Blend\", \"Saint George's\", -61.7449, 12.0653], [\"GRL\", \"GL\", \"Greenland\", \"Europe & Central Asia\", \"\", \"High income\", \"Not classified\", \"Nuuk\", -51.7214, 64.1836], [\"GTM\", \"GT\", \"Guatemala\", \"Latin America & Caribbean \", \"Latin America & Caribbean (excluding high income)\", \"Upper middle income\", \"IBRD\", \"Guatemala City\", -90.5328, 14.6248], [\"GUM\", \"GU\", \"Guam\", \"East Asia & Pacific\", \"\", \"High income\", \"Not classified\", \"Agana\", 144.794, 13.4443], [\"GUY\", \"GY\", \"Guyana\", \"Latin America & Caribbean \", \"Latin America & Caribbean (excluding high income)\", \"Upper middle income\", \"IDA\", \"Georgetown\", -58.1548, 6.80461], [\"HIC\", \"XD\", \"High income\", \"Aggregates\", \"\", \"Aggregates\", \"Aggregates\", \"\", NaN, NaN], [\"HKG\", \"HK\", \"Hong Kong SAR, China\", \"East Asia & Pacific\", \"\", \"High income\", \"Not classified\", \"\", 114.109, 22.3964], [\"HND\", \"HN\", \"Honduras\", \"Latin America & Caribbean \", \"Latin America & Caribbean (excluding high income)\", \"Lower middle income\", \"IDA\", \"Tegucigalpa\", -87.4667, 15.1333], [\"HPC\", \"XE\", \"Heavily indebted poor countries (HIPC)\", \"Aggregates\", \"\", \"Aggregates\", \"Aggregates\", \"\", NaN, NaN], [\"HRV\", \"HR\", \"Croatia\", \"Europe & Central Asia\", \"\", \"High income\", \"IBRD\", \"Zagreb\", 15.9614, 45.8069], [\"HTI\", \"HT\", \"Haiti\", \"Latin America & Caribbean \", \"Latin America & Caribbean (excluding high income)\", \"Low income\", \"IDA\", \"Port-au-Prince\", -72.3288, 18.5392], [\"HUN\", \"HU\", \"Hungary\", \"Europe & Central Asia\", \"\", \"High income\", \"Not classified\", \"Budapest\", 19.0408, 47.4984], [\"IBB\", \"ZB\", \"IBRD, including blend\", \"Aggregates\", \"\", \"Aggregates\", \"Aggregates\", \"\", NaN, NaN], [\"IBD\", \"XF\", \"IBRD only\", \"Aggregates\", \"\", \"Aggregates\", \"Aggregates\", \"\", NaN, NaN], [\"IBT\", \"ZT\", \"IDA & IBRD total\", \"Aggregates\", \"\", \"Aggregates\", \"Aggregates\", \"\", NaN, NaN], [\"IDA\", \"XG\", \"IDA total\", \"Aggregates\", \"\", \"Aggregates\", \"Aggregates\", \"\", NaN, NaN], [\"IDB\", \"XH\", \"IDA blend\", \"Aggregates\", \"\", \"Aggregates\", \"Aggregates\", \"\", NaN, NaN], [\"IDN\", \"ID\", \"Indonesia\", \"East Asia & Pacific\", \"East Asia & Pacific (excluding high income)\", \"Upper middle income\", \"IBRD\", \"Jakarta\", 106.83, -6.19752], [\"IDX\", \"XI\", \"IDA only\", \"Aggregates\", \"\", \"Aggregates\", \"Aggregates\", \"\", NaN, NaN], [\"IMN\", \"IM\", \"Isle of Man\", \"Europe & Central Asia\", \"\", \"High income\", \"Not classified\", \"Douglas\", -4.47928, 54.1509], [\"IND\", \"IN\", \"India\", \"South Asia\", \"South Asia\", \"Lower middle income\", \"IBRD\", \"New Delhi\", 77.225, 28.6353], [\"INX\", \"XY\", \"Not classified\", \"Aggregates\", \"\", \"Aggregates\", \"Aggregates\", \"\", NaN, NaN], [\"IRL\", \"IE\", \"Ireland\", \"Europe & Central Asia\", \"\", \"High income\", \"Not classified\", \"Dublin\", -6.26749, 53.3441], [\"IRN\", \"IR\", \"Iran, Islamic Rep.\", \"Middle East & North Africa\", \"Middle East & North Africa (excluding high income)\", \"Upper middle income\", \"IBRD\", \"Tehran\", 51.4447, 35.6878], [\"IRQ\", \"IQ\", \"Iraq\", \"Middle East & North Africa\", \"Middle East & North Africa (excluding high income)\", \"Upper middle income\", \"IBRD\", \"Baghdad\", 44.394, 33.3302], [\"ISL\", \"IS\", \"Iceland\", \"Europe & Central Asia\", \"\", \"High income\", \"Not classified\", \"Reykjavik\", -21.8952, 64.1353], [\"ISR\", \"IL\", \"Israel\", \"Middle East & North Africa\", \"\", \"High income\", \"Not classified\", \"\", 35.2035, 31.7717], [\"ITA\", \"IT\", \"Italy\", \"Europe & Central Asia\", \"\", \"High income\", \"Not classified\", \"Rome\", 12.4823, 41.8955], [\"JAM\", \"JM\", \"Jamaica\", \"Latin America & Caribbean \", \"Latin America & Caribbean (excluding high income)\", \"Upper middle income\", \"IBRD\", \"Kingston\", -76.792, 17.9927], [\"JOR\", \"JO\", \"Jordan\", \"Middle East & North Africa\", \"Middle East & North Africa (excluding high income)\", \"Upper middle income\", \"IBRD\", \"Amman\", 35.9263, 31.9497], [\"JPN\", \"JP\", \"Japan\", \"East Asia & Pacific\", \"\", \"High income\", \"Not classified\", \"Tokyo\", 139.77, 35.67], [\"KAZ\", \"KZ\", \"Kazakhstan\", \"Europe & Central Asia\", \"Europe & Central Asia (excluding high income)\", \"Upper middle income\", \"IBRD\", \"Astana\", 71.4382, 51.1879], [\"KEN\", \"KE\", \"Kenya\", \"Sub-Saharan Africa \", \"Sub-Saharan Africa (excluding high income)\", \"Lower middle income\", \"Blend\", \"Nairobi\", 36.8126, -1.27975], [\"KGZ\", \"KG\", \"Kyrgyz Republic\", \"Europe & Central Asia\", \"Europe & Central Asia (excluding high income)\", \"Lower middle income\", \"IDA\", \"Bishkek\", 74.6057, 42.8851], [\"KHM\", \"KH\", \"Cambodia\", \"East Asia & Pacific\", \"East Asia & Pacific (excluding high income)\", \"Lower middle income\", \"IDA\", \"Phnom Penh\", 104.874, 11.5556], [\"KIR\", \"KI\", \"Kiribati\", \"East Asia & Pacific\", \"East Asia & Pacific (excluding high income)\", \"Lower middle income\", \"IDA\", \"Tarawa\", 172.979, 1.32905], [\"KNA\", \"KN\", \"St. Kitts and Nevis\", \"Latin America & Caribbean \", \"\", \"High income\", \"IBRD\", \"Basseterre\", -62.7309, 17.3], [\"KOR\", \"KR\", \"Korea, Rep.\", \"East Asia & Pacific\", \"\", \"High income\", \"Not classified\", \"Seoul\", 126.957, 37.5323], [\"KWT\", \"KW\", \"Kuwait\", \"Middle East & North Africa\", \"\", \"High income\", \"Not classified\", \"Kuwait City\", 47.9824, 29.3721], [\"LAC\", \"XJ\", \"Latin America & Caribbean (excluding high income)\", \"Aggregates\", \"\", \"Aggregates\", \"Aggregates\", \"\", NaN, NaN], [\"LAO\", \"LA\", \"Lao PDR\", \"East Asia & Pacific\", \"East Asia & Pacific (excluding high income)\", \"Lower middle income\", \"IDA\", \"Vientiane\", 102.177, 18.5826], [\"LBN\", \"LB\", \"Lebanon\", \"Middle East & North Africa\", \"Middle East & North Africa (excluding high income)\", \"Upper middle income\", \"IBRD\", \"Beirut\", 35.5134, 33.8872], [\"LBR\", \"LR\", \"Liberia\", \"Sub-Saharan Africa \", \"Sub-Saharan Africa (excluding high income)\", \"Low income\", \"IDA\", \"Monrovia\", -10.7957, 6.30039], [\"LBY\", \"LY\", \"Libya\", \"Middle East & North Africa\", \"Middle East & North Africa (excluding high income)\", \"Upper middle income\", \"IBRD\", \"Tripoli\", 13.1072, 32.8578], [\"LCA\", \"LC\", \"St. Lucia\", \"Latin America & Caribbean \", \"Latin America & Caribbean (excluding high income)\", \"Upper middle income\", \"Blend\", \"Castries\", -60.9832, 14.0], [\"LCN\", \"ZJ\", \"Latin America & Caribbean \", \"Aggregates\", \"\", \"Aggregates\", \"Aggregates\", \"\", NaN, NaN], [\"LDC\", \"XL\", \"Least developed countries: UN classification\", \"Aggregates\", \"\", \"Aggregates\", \"Aggregates\", \"\", NaN, NaN], [\"LIC\", \"XM\", \"Low income\", \"Aggregates\", \"\", \"Aggregates\", \"Aggregates\", \"\", NaN, NaN], [\"LIE\", \"LI\", \"Liechtenstein\", \"Europe & Central Asia\", \"\", \"High income\", \"Not classified\", \"Vaduz\", 9.52148, 47.1411], [\"LKA\", \"LK\", \"Sri Lanka\", \"South Asia\", \"South Asia\", \"Lower middle income\", \"IBRD\", \"Colombo\", 79.8528, 6.92148], [\"LMC\", \"XN\", \"Lower middle income\", \"Aggregates\", \"\", \"Aggregates\", \"Aggregates\", \"\", NaN, NaN], [\"LMY\", \"XO\", \"Low & middle income\", \"Aggregates\", \"\", \"Aggregates\", \"Aggregates\", \"\", NaN, NaN], [\"LSO\", \"LS\", \"Lesotho\", \"Sub-Saharan Africa \", \"Sub-Saharan Africa (excluding high income)\", \"Lower middle income\", \"IDA\", \"Maseru\", 27.7167, -29.5208], [\"LTE\", \"V3\", \"Late-demographic dividend\", \"Aggregates\", \"\", \"Aggregates\", \"Aggregates\", \"\", NaN, NaN], [\"LTU\", \"LT\", \"Lithuania\", \"Europe & Central Asia\", \"\", \"High income\", \"Not classified\", \"Vilnius\", 25.2799, 54.6896], [\"LUX\", \"LU\", \"Luxembourg\", \"Europe & Central Asia\", \"\", \"High income\", \"Not classified\", \"Luxembourg\", 6.1296, 49.61], [\"LVA\", \"LV\", \"Latvia\", \"Europe & Central Asia\", \"\", \"High income\", \"Not classified\", \"Riga\", 24.1048, 56.9465], [\"MAC\", \"MO\", \"Macao SAR, China\", \"East Asia & Pacific\", \"\", \"High income\", \"Not classified\", \"\", 113.55, 22.1667], [\"MAF\", \"MF\", \"St. Martin (French part)\", \"Latin America & Caribbean \", \"\", \"High income\", \"Not classified\", \"Marigot\", NaN, NaN], [\"MAR\", \"MA\", \"Morocco\", \"Middle East & North Africa\", \"Middle East & North Africa (excluding high income)\", \"Lower middle income\", \"IBRD\", \"Rabat\", -6.8704, 33.9905], [\"MCO\", \"MC\", \"Monaco\", \"Europe & Central Asia\", \"\", \"High income\", \"Not classified\", \"Monaco\", 7.41891, 43.7325], [\"MDA\", \"MD\", \"Moldova\", \"Europe & Central Asia\", \"Europe & Central Asia (excluding high income)\", \"Lower middle income\", \"IBRD\", \"Chisinau\", 28.8497, 47.0167], [\"MDE\", \"M1\", \"Middle East (developing only)\", \"Aggregates\", \"\", \"Aggregates\", \"Aggregates\", \"\", NaN, NaN], [\"MDG\", \"MG\", \"Madagascar\", \"Sub-Saharan Africa \", \"Sub-Saharan Africa (excluding high income)\", \"Low income\", \"IDA\", \"Antananarivo\", 45.7167, -20.4667], [\"MDV\", \"MV\", \"Maldives\", \"South Asia\", \"South Asia\", \"Upper middle income\", \"IDA\", \"Male\", 73.5109, 4.1742], [\"MEA\", \"ZQ\", \"Middle East & North Africa\", \"Aggregates\", \"\", \"Aggregates\", \"Aggregates\", \"\", NaN, NaN], [\"MEX\", \"MX\", \"Mexico\", \"Latin America & Caribbean \", \"Latin America & Caribbean (excluding high income)\", \"Upper middle income\", \"IBRD\", \"Mexico City\", -99.1276, 19.427], [\"MHL\", \"MH\", \"Marshall Islands\", \"East Asia & Pacific\", \"East Asia & Pacific (excluding high income)\", \"Upper middle income\", \"IDA\", \"Majuro\", 171.135, 7.11046], [\"MIC\", \"XP\", \"Middle income\", \"Aggregates\", \"\", \"Aggregates\", \"Aggregates\", \"\", NaN, NaN], [\"MKD\", \"MK\", \"North Macedonia\", \"Europe & Central Asia\", \"Europe & Central Asia (excluding high income)\", \"Upper middle income\", \"IBRD\", \"Skopje\", 21.4361, 42.0024], [\"MLI\", \"ML\", \"Mali\", \"Sub-Saharan Africa \", \"Sub-Saharan Africa (excluding high income)\", \"Low income\", \"IDA\", \"Bamako\", -7.50034, 13.5667], [\"MLT\", \"MT\", \"Malta\", \"Middle East & North Africa\", \"\", \"High income\", \"Not classified\", \"Valletta\", 14.5189, 35.9042], [\"MMR\", \"MM\", \"Myanmar\", \"East Asia & Pacific\", \"East Asia & Pacific (excluding high income)\", \"Lower middle income\", \"IDA\", \"Naypyidaw\", 95.9562, 21.914], [\"MNA\", \"XQ\", \"Middle East & North Africa (excluding high income)\", \"Aggregates\", \"\", \"Aggregates\", \"Aggregates\", \"\", NaN, NaN], [\"MNE\", \"ME\", \"Montenegro\", \"Europe & Central Asia\", \"Europe & Central Asia (excluding high income)\", \"Upper middle income\", \"IBRD\", \"Podgorica\", 19.2595, 42.4602], [\"MNG\", \"MN\", \"Mongolia\", \"East Asia & Pacific\", \"East Asia & Pacific (excluding high income)\", \"Lower middle income\", \"IBRD\", \"Ulaanbaatar\", 106.937, 47.9129], [\"MNP\", \"MP\", \"Northern Mariana Islands\", \"East Asia & Pacific\", \"\", \"High income\", \"Not classified\", \"Saipan\", 145.765, 15.1935], [\"MOZ\", \"MZ\", \"Mozambique\", \"Sub-Saharan Africa \", \"Sub-Saharan Africa (excluding high income)\", \"Low income\", \"IDA\", \"Maputo\", 32.5713, -25.9664], [\"MRT\", \"MR\", \"Mauritania\", \"Sub-Saharan Africa \", \"Sub-Saharan Africa (excluding high income)\", \"Lower middle income\", \"IDA\", \"Nouakchott\", -15.9824, 18.2367], [\"MUS\", \"MU\", \"Mauritius\", \"Sub-Saharan Africa \", \"\", \"High income\", \"IBRD\", \"Port Louis\", 57.4977, -20.1605], [\"MWI\", \"MW\", \"Malawi\", \"Sub-Saharan Africa \", \"Sub-Saharan Africa (excluding high income)\", \"Low income\", \"IDA\", \"Lilongwe\", 33.7703, -13.9899], [\"MYS\", \"MY\", \"Malaysia\", \"East Asia & Pacific\", \"East Asia & Pacific (excluding high income)\", \"Upper middle income\", \"IBRD\", \"Kuala Lumpur\", 101.684, 3.12433], [\"NAC\", \"XU\", \"North America\", \"Aggregates\", \"\", \"Aggregates\", \"Aggregates\", \"\", NaN, NaN], [\"NAF\", \"M2\", \"North Africa\", \"Aggregates\", \"\", \"Aggregates\", \"Aggregates\", \"\", NaN, NaN], [\"NAM\", \"NA\", \"Namibia\", \"Sub-Saharan Africa \", \"Sub-Saharan Africa (excluding high income)\", \"Upper middle income\", \"IBRD\", \"Windhoek\", 17.0931, -22.5648], [\"NCL\", \"NC\", \"New Caledonia\", \"East Asia & Pacific\", \"\", \"High income\", \"Not classified\", \"Noum'ea\", 166.464, -22.2677], [\"NER\", \"NE\", \"Niger\", \"Sub-Saharan Africa \", \"Sub-Saharan Africa (excluding high income)\", \"Low income\", \"IDA\", \"Niamey\", 2.1073, 13.514], [\"NGA\", \"NG\", \"Nigeria\", \"Sub-Saharan Africa \", \"Sub-Saharan Africa (excluding high income)\", \"Lower middle income\", \"Blend\", \"Abuja\", 7.48906, 9.05804], [\"NIC\", \"NI\", \"Nicaragua\", \"Latin America & Caribbean \", \"Latin America & Caribbean (excluding high income)\", \"Lower middle income\", \"IDA\", \"Managua\", -86.2734, 12.1475], [\"NLD\", \"NL\", \"Netherlands\", \"Europe & Central Asia\", \"\", \"High income\", \"Not classified\", \"Amsterdam\", 4.89095, 52.3738], [\"NOR\", \"NO\", \"Norway\", \"Europe & Central Asia\", \"\", \"High income\", \"Not classified\", \"Oslo\", 10.7387, 59.9138], [\"NPL\", \"NP\", \"Nepal\", \"South Asia\", \"South Asia\", \"Lower middle income\", \"IDA\", \"Kathmandu\", 85.3157, 27.6939], [\"NRS\", \"6X\", \"Non-resource rich Sub-Saharan Africa countries\", \"Aggregates\", \"\", \"Aggregates\", \"Aggregates\", \"\", NaN, NaN], [\"NRU\", \"NR\", \"Nauru\", \"East Asia & Pacific\", \"\", \"High income\", \"IBRD\", \"Yaren District\", 166.920867, -0.5477], [\"NXS\", \"6N\", \"IDA countries not classified as fragile situations, excluding Sub-Saharan Africa\", \"Aggregates\", \"\", \"Aggregates\", \"Aggregates\", \"\", NaN, NaN], [\"NZL\", \"NZ\", \"New Zealand\", \"East Asia & Pacific\", \"\", \"High income\", \"Not classified\", \"Wellington\", 174.776, -41.2865], [\"OED\", \"OE\", \"OECD members\", \"Aggregates\", \"\", \"Aggregates\", \"Aggregates\", \"\", NaN, NaN], [\"OMN\", \"OM\", \"Oman\", \"Middle East & North Africa\", \"\", \"High income\", \"Not classified\", \"Muscat\", 58.5874, 23.6105], [\"OSS\", \"S4\", \"Other small states\", \"Aggregates\", \"\", \"Aggregates\", \"Aggregates\", \"\", NaN, NaN], [\"PAK\", \"PK\", \"Pakistan\", \"South Asia\", \"South Asia\", \"Lower middle income\", \"Blend\", \"Islamabad\", 72.8, 30.5167], [\"PAN\", \"PA\", \"Panama\", \"Latin America & Caribbean \", \"\", \"High income\", \"IBRD\", \"Panama City\", -79.5188, 8.99427], [\"PER\", \"PE\", \"Peru\", \"Latin America & Caribbean \", \"Latin America & Caribbean (excluding high income)\", \"Upper middle income\", \"IBRD\", \"Lima\", -77.0465, -12.0931], [\"PHL\", \"PH\", \"Philippines\", \"East Asia & Pacific\", \"East Asia & Pacific (excluding high income)\", \"Lower middle income\", \"IBRD\", \"Manila\", 121.035, 14.5515], [\"PLW\", \"PW\", \"Palau\", \"East Asia & Pacific\", \"\", \"High income\", \"IBRD\", \"Koror\", 134.479, 7.34194], [\"PNG\", \"PG\", \"Papua New Guinea\", \"East Asia & Pacific\", \"East Asia & Pacific (excluding high income)\", \"Lower middle income\", \"Blend\", \"Port Moresby\", 147.194, -9.47357], [\"POL\", \"PL\", \"Poland\", \"Europe & Central Asia\", \"\", \"High income\", \"IBRD\", \"Warsaw\", 21.02, 52.26], [\"PRE\", \"V1\", \"Pre-demographic dividend\", \"Aggregates\", \"\", \"Aggregates\", \"Aggregates\", \"\", NaN, NaN], [\"PRI\", \"PR\", \"Puerto Rico\", \"Latin America & Caribbean \", \"\", \"High income\", \"Not classified\", \"San Juan\", -66.0, 18.23], [\"PRK\", \"KP\", \"Korea, Dem. People\\u2019s Rep.\", \"East Asia & Pacific\", \"East Asia & Pacific (excluding high income)\", \"Low income\", \"Not classified\", \"Pyongyang\", 125.754, 39.0319], [\"PRT\", \"PT\", \"Portugal\", \"Europe & Central Asia\", \"\", \"High income\", \"Not classified\", \"Lisbon\", -9.13552, 38.7072], [\"PRY\", \"PY\", \"Paraguay\", \"Latin America & Caribbean \", \"Latin America & Caribbean (excluding high income)\", \"Upper middle income\", \"IBRD\", \"Asuncion\", -57.6362, -25.3005], [\"PSE\", \"PS\", \"West Bank and Gaza\", \"Middle East & North Africa\", \"Middle East & North Africa (excluding high income)\", \"Lower middle income\", \"Not classified\", \"\", NaN, NaN], [\"PSS\", \"S2\", \"Pacific island small states\", \"Aggregates\", \"\", \"Aggregates\", \"Aggregates\", \"\", NaN, NaN], [\"PST\", \"V4\", \"Post-demographic dividend\", \"Aggregates\", \"\", \"Aggregates\", \"Aggregates\", \"\", NaN, NaN], [\"PYF\", \"PF\", \"French Polynesia\", \"East Asia & Pacific\", \"\", \"High income\", \"Not classified\", \"Papeete\", -149.57, -17.535], [\"QAT\", \"QA\", \"Qatar\", \"Middle East & North Africa\", \"\", \"High income\", \"Not classified\", \"Doha\", 51.5082, 25.2948], [\"ROU\", \"RO\", \"Romania\", \"Europe & Central Asia\", \"\", \"High income\", \"IBRD\", \"Bucharest\", 26.0979, 44.4479], [\"RRS\", \"R6\", \"Resource rich Sub-Saharan Africa countries\", \"Aggregates\", \"\", \"Aggregates\", \"Aggregates\", \"\", NaN, NaN], [\"RUS\", \"RU\", \"Russian Federation\", \"Europe & Central Asia\", \"Europe & Central Asia (excluding high income)\", \"Upper middle income\", \"IBRD\", \"Moscow\", 37.6176, 55.7558], [\"RWA\", \"RW\", \"Rwanda\", \"Sub-Saharan Africa \", \"Sub-Saharan Africa (excluding high income)\", \"Low income\", \"IDA\", \"Kigali\", 30.0587, -1.95325], [\"SAS\", \"8S\", \"South Asia\", \"Aggregates\", \"\", \"Aggregates\", \"Aggregates\", \"\", NaN, NaN], [\"SAU\", \"SA\", \"Saudi Arabia\", \"Middle East & North Africa\", \"\", \"High income\", \"Not classified\", \"Riyadh\", 46.6977, 24.6748], [\"SDN\", \"SD\", \"Sudan\", \"Sub-Saharan Africa \", \"Sub-Saharan Africa (excluding high income)\", \"Low income\", \"IDA\", \"Khartoum\", 32.5363, 15.5932], [\"SEN\", \"SN\", \"Senegal\", \"Sub-Saharan Africa \", \"Sub-Saharan Africa (excluding high income)\", \"Lower middle income\", \"IDA\", \"Dakar\", -17.4734, 14.7247], [\"SGP\", \"SG\", \"Singapore\", \"East Asia & Pacific\", \"\", \"High income\", \"Not classified\", \"Singapore\", 103.85, 1.28941], [\"SLB\", \"SB\", \"Solomon Islands\", \"East Asia & Pacific\", \"East Asia & Pacific (excluding high income)\", \"Lower middle income\", \"IDA\", \"Honiara\", 159.949, -9.42676], [\"SLE\", \"SL\", \"Sierra Leone\", \"Sub-Saharan Africa \", \"Sub-Saharan Africa (excluding high income)\", \"Low income\", \"IDA\", \"Freetown\", -13.2134, 8.4821], [\"SLV\", \"SV\", \"El Salvador\", \"Latin America & Caribbean \", \"Latin America & Caribbean (excluding high income)\", \"Lower middle income\", \"IBRD\", \"San Salvador\", -89.2073, 13.7034], [\"SMR\", \"SM\", \"San Marino\", \"Europe & Central Asia\", \"\", \"High income\", \"Not classified\", \"San Marino\", 12.4486, 43.9322], [\"SOM\", \"SO\", \"Somalia\", \"Sub-Saharan Africa \", \"Sub-Saharan Africa (excluding high income)\", \"Low income\", \"IDA\", \"Mogadishu\", 45.3254, 2.07515], [\"SRB\", \"RS\", \"Serbia\", \"Europe & Central Asia\", \"Europe & Central Asia (excluding high income)\", \"Upper middle income\", \"IBRD\", \"Belgrade\", 20.4656, 44.8024], [\"SSA\", \"ZF\", \"Sub-Saharan Africa (excluding high income)\", \"Aggregates\", \"\", \"Aggregates\", \"Aggregates\", \"\", NaN, NaN], [\"SSD\", \"SS\", \"South Sudan\", \"Sub-Saharan Africa \", \"Sub-Saharan Africa (excluding high income)\", \"Low income\", \"IDA\", \"Juba\", 31.6, 4.85], [\"SSF\", \"ZG\", \"Sub-Saharan Africa \", \"Aggregates\", \"\", \"Aggregates\", \"Aggregates\", \"\", NaN, NaN], [\"SST\", \"S1\", \"Small states\", \"Aggregates\", \"\", \"Aggregates\", \"Aggregates\", \"\", NaN, NaN], [\"STP\", \"ST\", \"Sao Tome and Principe\", \"Sub-Saharan Africa \", \"Sub-Saharan Africa (excluding high income)\", \"Lower middle income\", \"IDA\", \"Sao Tome\", 6.6071, 0.20618], [\"SUR\", \"SR\", \"Suriname\", \"Latin America & Caribbean \", \"Latin America & Caribbean (excluding high income)\", \"Upper middle income\", \"IBRD\", \"Paramaribo\", -55.1679, 5.8232], [\"SVK\", \"SK\", \"Slovak Republic\", \"Europe & Central Asia\", \"\", \"High income\", \"Not classified\", \"Bratislava\", 17.1073, 48.1484], [\"SVN\", \"SI\", \"Slovenia\", \"Europe & Central Asia\", \"\", \"High income\", \"Not classified\", \"Ljubljana\", 14.5044, 46.0546], [\"SWE\", \"SE\", \"Sweden\", \"Europe & Central Asia\", \"\", \"High income\", \"Not classified\", \"Stockholm\", 18.0645, 59.3327], [\"SWZ\", \"SZ\", \"Eswatini\", \"Sub-Saharan Africa \", \"Sub-Saharan Africa (excluding high income)\", \"Lower middle income\", \"IBRD\", \"Mbabane\", 31.4659, -26.5225], [\"SXM\", \"SX\", \"Sint Maarten (Dutch part)\", \"Latin America & Caribbean \", \"\", \"High income\", \"Not classified\", \"Philipsburg\", NaN, NaN], [\"SXZ\", \"A4\", \"Sub-Saharan Africa excluding South Africa\", \"Aggregates\", \"\", \"Aggregates\", \"Aggregates\", \"\", NaN, NaN], [\"SYC\", \"SC\", \"Seychelles\", \"Sub-Saharan Africa \", \"\", \"High income\", \"IBRD\", \"Victoria\", 55.4466, -4.6309], [\"SYR\", \"SY\", \"Syrian Arab Republic\", \"Middle East & North Africa\", \"Middle East & North Africa (excluding high income)\", \"Low income\", \"IDA\", \"Damascus\", 36.3119, 33.5146], [\"TCA\", \"TC\", \"Turks and Caicos Islands\", \"Latin America & Caribbean \", \"\", \"High income\", \"Not classified\", \"Grand Turk\", -71.141389, 21.460278], [\"TCD\", \"TD\", \"Chad\", \"Sub-Saharan Africa \", \"Sub-Saharan Africa (excluding high income)\", \"Low income\", \"IDA\", \"N'Djamena\", 15.0445, 12.1048], [\"TEA\", \"T4\", \"East Asia & Pacific (IDA & IBRD countries)\", \"Aggregates\", \"\", \"Aggregates\", \"Aggregates\", \"\", NaN, NaN], [\"TEC\", \"T7\", \"Europe & Central Asia (IDA & IBRD countries)\", \"Aggregates\", \"\", \"Aggregates\", \"Aggregates\", \"\", NaN, NaN], [\"TGO\", \"TG\", \"Togo\", \"Sub-Saharan Africa \", \"Sub-Saharan Africa (excluding high income)\", \"Low income\", \"IDA\", \"Lome\", 1.2255, 6.1228], [\"THA\", \"TH\", \"Thailand\", \"East Asia & Pacific\", \"East Asia & Pacific (excluding high income)\", \"Upper middle income\", \"IBRD\", \"Bangkok\", 100.521, 13.7308], [\"TJK\", \"TJ\", \"Tajikistan\", \"Europe & Central Asia\", \"Europe & Central Asia (excluding high income)\", \"Low income\", \"IDA\", \"Dushanbe\", 68.7864, 38.5878], [\"TKM\", \"TM\", \"Turkmenistan\", \"Europe & Central Asia\", \"Europe & Central Asia (excluding high income)\", \"Upper middle income\", \"IBRD\", \"Ashgabat\", 58.3794, 37.9509], [\"TLA\", \"T2\", \"Latin America & the Caribbean (IDA & IBRD countries)\", \"Aggregates\", \"\", \"Aggregates\", \"Aggregates\", \"\", NaN, NaN], [\"TLS\", \"TL\", \"Timor-Leste\", \"East Asia & Pacific\", \"East Asia & Pacific (excluding high income)\", \"Lower middle income\", \"Blend\", \"Dili\", 125.567, -8.56667], [\"TMN\", \"T3\", \"Middle East & North Africa (IDA & IBRD countries)\", \"Aggregates\", \"\", \"Aggregates\", \"Aggregates\", \"\", NaN, NaN], [\"TON\", \"TO\", \"Tonga\", \"East Asia & Pacific\", \"East Asia & Pacific (excluding high income)\", \"Upper middle income\", \"IDA\", \"Nuku'alofa\", -175.216, -21.136], [\"TSA\", \"T5\", \"South Asia (IDA & IBRD)\", \"Aggregates\", \"\", \"Aggregates\", \"Aggregates\", \"\", NaN, NaN], [\"TSS\", \"T6\", \"Sub-Saharan Africa (IDA & IBRD countries)\", \"Aggregates\", \"\", \"Aggregates\", \"Aggregates\", \"\", NaN, NaN], [\"TTO\", \"TT\", \"Trinidad and Tobago\", \"Latin America & Caribbean \", \"\", \"High income\", \"IBRD\", \"Port-of-Spain\", -61.4789, 10.6596], [\"TUN\", \"TN\", \"Tunisia\", \"Middle East & North Africa\", \"Middle East & North Africa (excluding high income)\", \"Lower middle income\", \"IBRD\", \"Tunis\", 10.21, 36.7899], [\"TUR\", \"TR\", \"Turkey\", \"Europe & Central Asia\", \"Europe & Central Asia (excluding high income)\", \"Upper middle income\", \"IBRD\", \"Ankara\", 32.3606, 39.7153], [\"TUV\", \"TV\", \"Tuvalu\", \"East Asia & Pacific\", \"East Asia & Pacific (excluding high income)\", \"Upper middle income\", \"IDA\", \"Funafuti\", 179.089567, -8.631488], [\"TWN\", \"TW\", \"Taiwan, China\", \"East Asia & Pacific\", \"\", \"High income\", \"Not classified\", \"\", NaN, NaN], [\"TZA\", \"TZ\", \"Tanzania\", \"Sub-Saharan Africa \", \"Sub-Saharan Africa (excluding high income)\", \"Lower middle income\", \"IDA\", \"Dodoma\", 35.7382, -6.17486], [\"UGA\", \"UG\", \"Uganda\", \"Sub-Saharan Africa \", \"Sub-Saharan Africa (excluding high income)\", \"Low income\", \"IDA\", \"Kampala\", 32.5729, 0.314269], [\"UKR\", \"UA\", \"Ukraine\", \"Europe & Central Asia\", \"Europe & Central Asia (excluding high income)\", \"Lower middle income\", \"IBRD\", \"Kiev\", 30.5038, 50.4536], [\"UMC\", \"XT\", \"Upper middle income\", \"Aggregates\", \"\", \"Aggregates\", \"Aggregates\", \"\", NaN, NaN], [\"URY\", \"UY\", \"Uruguay\", \"Latin America & Caribbean \", \"\", \"High income\", \"IBRD\", \"Montevideo\", -56.0675, -34.8941], [\"USA\", \"US\", \"United States\", \"North America\", \"\", \"High income\", \"Not classified\", \"Washington D.C.\", -77.032, 38.8895], [\"UZB\", \"UZ\", \"Uzbekistan\", \"Europe & Central Asia\", \"Europe & Central Asia (excluding high income)\", \"Lower middle income\", \"Blend\", \"Tashkent\", 69.269, 41.3052], [\"VCT\", \"VC\", \"St. Vincent and the Grenadines\", \"Latin America & Caribbean \", \"Latin America & Caribbean (excluding high income)\", \"Upper middle income\", \"Blend\", \"Kingstown\", -61.2653, 13.2035], [\"VEN\", \"VE\", \"Venezuela, RB\", \"Latin America & Caribbean \", \"Latin America & Caribbean (excluding high income)\", \"Upper middle income\", \"IBRD\", \"Caracas\", -69.8371, 9.08165], [\"VGB\", \"VG\", \"British Virgin Islands\", \"Latin America & Caribbean \", \"\", \"High income\", \"Not classified\", \"Road Town\", -64.623056, 18.431389], [\"VIR\", \"VI\", \"Virgin Islands (U.S.)\", \"Latin America & Caribbean \", \"\", \"High income\", \"Not classified\", \"Charlotte Amalie\", -64.8963, 18.3358], [\"VNM\", \"VN\", \"Vietnam\", \"East Asia & Pacific\", \"East Asia & Pacific (excluding high income)\", \"Lower middle income\", \"IBRD\", \"Hanoi\", 105.825, 21.0069], [\"VUT\", \"VU\", \"Vanuatu\", \"East Asia & Pacific\", \"East Asia & Pacific (excluding high income)\", \"Lower middle income\", \"IDA\", \"Port-Vila\", 168.321, -17.7404], [\"WLD\", \"1W\", \"World\", \"Aggregates\", \"\", \"Aggregates\", \"Aggregates\", \"\", NaN, NaN], [\"WSM\", \"WS\", \"Samoa\", \"East Asia & Pacific\", \"East Asia & Pacific (excluding high income)\", \"Upper middle income\", \"IDA\", \"Apia\", -171.752, -13.8314], [\"XKX\", \"XK\", \"Kosovo\", \"Europe & Central Asia\", \"Europe & Central Asia (excluding high income)\", \"Upper middle income\", \"IDA\", \"Pristina\", 20.926, 42.565], [\"XZN\", \"A5\", \"Sub-Saharan Africa excluding South Africa and Nigeria\", \"Aggregates\", \"\", \"Aggregates\", \"Aggregates\", \"\", NaN, NaN], [\"YEM\", \"YE\", \"Yemen, Rep.\", \"Middle East & North Africa\", \"Middle East & North Africa (excluding high income)\", \"Low income\", \"IDA\", \"Sana'a\", 44.2075, 15.352], [\"ZAF\", \"ZA\", \"South Africa\", \"Sub-Saharan Africa \", \"Sub-Saharan Africa (excluding high income)\", \"Upper middle income\", \"IBRD\", \"Pretoria\", 28.1871, -25.746], [\"ZMB\", \"ZM\", \"Zambia\", \"Sub-Saharan Africa \", \"Sub-Saharan Africa (excluding high income)\", \"Lower middle income\", \"IDA\", \"Lusaka\", 28.2937, -15.3982], [\"ZWE\", \"ZW\", \"Zimbabwe\", \"Sub-Saharan Africa \", \"Sub-Saharan Africa (excluding high income)\", \"Lower middle income\", \"Blend\", \"Harare\", 31.0672, -17.8312]]};\n",
       "        dt_args = eval_functions(dt_args);\n",
       "        table = $('#6bf8bbd6-30dd-4bcf-8f29-71de0d5be640').DataTable(dt_args);\n",
       "    });\n",
       "})\n",
       "</script>\n",
       "</div>\n"
      ],
      "text/plain": [
       "<IPython.core.display.HTML object>"
      ]
     },
     "metadata": {},
     "output_type": "display_data"
    }
   ],
   "source": [
    "df = wb.get_countries()\n",
    "show(df)"
   ]
  },
  {
   "cell_type": "code",
   "execution_count": 7,
   "metadata": {},
   "outputs": [],
   "source": [
    "# descargar en html"
   ]
  },
  {
   "cell_type": "markdown",
   "metadata": {},
   "source": [
    "# Jupyter DataTables"
   ]
  },
  {
   "cell_type": "raw",
   "metadata": {},
   "source": [
    "!pip3 install jupyter-datatables\n",
    "!pip3 install jupyter-require"
   ]
  },
  {
   "cell_type": "code",
   "execution_count": 8,
   "metadata": {},
   "outputs": [],
   "source": [
    "from jupyter_datatables import init_datatables_mode\n",
    "\n",
    "%load_ext jupyter_require\n",
    "%requirejs d3 https://d3js.org/d3.v5.min\n",
    "\n",
    "init_datatables_mode()"
   ]
  },
  {
   "cell_type": "code",
   "execution_count": 10,
   "metadata": {},
   "outputs": [
    {
     "data": {
      "application/javascript": [
       "\n",
       "    (function() {\n",
       "        const sample_size = Number(50).toLocaleString();\n",
       "        const adjusted = Boolean('False' == 'True')\n",
       "\n",
       "        const total = Number(50).toLocaleString();\n",
       "\n",
       "        element.append($('<p>').text(\n",
       "            `Sample size: ${sample_size} out of ${total} ${ adjusted ? \"(adjusted)\" : \"\" }`));\n",
       "    }());\n",
       "    "
      ],
      "text/html": [
       "<div><table id=\"a8be8c88-751e-4a88-9814-2c9324c5ebb0\" class=\"display\"><thead>\n",
       "    <tr style=\"text-align: right;\">\n",
       "      \n",
       "      <th>A</th>\n",
       "      <th>B</th>\n",
       "      <th>C</th>\n",
       "      <th>D</th>\n",
       "      <th>E</th>\n",
       "    </tr>\n",
       "  </thead></table>\n",
       "<script type=\"text/javascript\">\n",
       "require([\"datatables\"], function (datatables) {\n",
       "    $(document).ready(function () {\n",
       "        var dt_args = {\"columnDefs\": [{\"width\": \"70px\", \"targets\": \"_all\"}], \"data\": [[0.969721, 1.033192, 0.605552, 1.073976, 1.969783], [1.178332, 0.232343, 1.2514, 0.887879, 0.522784], [1.407845, 1.327684, 0.644985, 0.328248, 1.410649], [1.464067, 0.142824, 1.324077, 0.536807, 0.155502], [0.013238, 1.3955, 0.442674, 0.159653, 2.11851], [0.271077, 0.88858, 0.336101, 1.353198, 2.068727], [0.43565, 1.097064, 0.7125, 0.4029, 0.577531], [0.082422, 0.872025, 0.587041, 0.077569, 0.385041], [0.222324, 1.469498, 2.775185, 0.007276, 0.896086], [1.285294, 0.227847, 0.842631, 1.346153, 1.591492], [0.332056, 0.644657, 0.957615, 0.251992, 1.408226], [1.739432, 0.050166, 1.395473, 0.413756, 0.143517], [2.156788, 0.037959, 0.490571, 0.318976, 1.277361], [0.248977, 0.640398, 0.470924, 0.091003, 0.574477], [0.137027, 0.933205, 0.51666, 1.239929, 1.280488], [0.499679, 2.770794, 0.755425, 0.658904, 1.23539], [0.872331, 0.105081, 0.184072, 1.577753, 0.288048], [0.436155, 1.280991, 1.146176, 0.845996, 0.624994], [1.334142, 0.45153, 0.820653, 1.666406, 0.1927], [0.89163, 1.050295, 0.819083, 0.430019, 0.698099], [1.232007, 2.509385, 0.927012, 0.732227, 0.342415], [1.07528, 1.516186, 0.675206, 1.677046, 0.28089], [1.032326, 0.384176, 0.412486, 0.69276, 1.464025], [0.370231, 0.184878, 0.975186, 0.839534, 0.176768], [1.663499, 0.90112, 2.604662, 0.091635, 1.252979], [0.7902, 0.654824, 0.854029, 1.618502, 2.013986], [0.511508, 2.390943, 0.919061, 0.454976, 0.162403], [0.597179, 1.254075, 1.802252, 0.519484, 0.309614], [0.650891, 1.290334, 1.199835, 2.126916, 1.293795], [1.15201, 0.443438, 0.702191, 0.097574, 0.653328], [0.664017, 0.63677, 0.224526, 0.107301, 0.567256], [1.264749, 0.43528, 0.389008, 1.551867, 2.349072], [0.977684, 0.268559, 0.33376, 0.374266, 0.928952], [0.216525, 2.155213, 0.910003, 0.068669, 1.244673], [0.235905, 0.283328, 0.33282, 0.648496, 1.393326], [0.112259, 0.217724, 0.64303, 0.24541, 0.194537], [0.001487, 0.890472, 1.44878, 0.777323, 0.683359], [0.623042, 0.943925, 1.013804, 0.71764, 0.194999], [0.112248, 1.470548, 0.537848, 0.444363, 0.996791], [0.849544, 0.322534, 0.127699, 1.173584, 1.681623], [0.648293, 0.786638, 0.676247, 0.236773, 0.181931], [1.071692, 0.161678, 0.230867, 0.411228, 0.284903], [0.852741, 0.840636, 1.055819, 0.833526, 2.545327], [0.668232, 0.436948, 0.685032, 1.681692, 1.181071], [0.182787, 0.728579, 0.235093, 0.676661, 2.185343], [0.373373, 0.932149, 0.531388, 0.755481, 0.261038], [0.932654, 1.799408, 1.093038, 0.456484, 0.536017], [0.176215, 0.597792, 0.981996, 0.148949, 2.276791], [0.994787, 0.235934, 0.910804, 0.44843, 1.090172], [0.059705, 0.347274, 0.069014, 0.361024, 0.495073]]};\n",
       "        dt_args = eval_functions(dt_args);\n",
       "        table = $('#a8be8c88-751e-4a88-9814-2c9324c5ebb0').DataTable(dt_args);\n",
       "    });\n",
       "})\n",
       "</script>\n",
       "</div>\n"
      ],
      "text/plain": [
       "           A         B         C         D         E\n",
       "0   0.969721  1.033192  0.605552  1.073976  1.969783\n",
       "1   1.178332  0.232343  1.251400  0.887879  0.522784\n",
       "2   1.407845  1.327684  0.644985  0.328248  1.410649\n",
       "3   1.464067  0.142824  1.324077  0.536807  0.155502\n",
       "4   0.013238  1.395500  0.442674  0.159653  2.118510\n",
       "5   0.271077  0.888580  0.336101  1.353198  2.068727\n",
       "6   0.435650  1.097064  0.712500  0.402900  0.577531\n",
       "7   0.082422  0.872025  0.587041  0.077569  0.385041\n",
       "8   0.222324  1.469498  2.775185  0.007276  0.896086\n",
       "9   1.285294  0.227847  0.842631  1.346153  1.591492\n",
       "10  0.332056  0.644657  0.957615  0.251992  1.408226\n",
       "11  1.739432  0.050166  1.395473  0.413756  0.143517\n",
       "12  2.156788  0.037959  0.490571  0.318976  1.277361\n",
       "13  0.248977  0.640398  0.470924  0.091003  0.574477\n",
       "14  0.137027  0.933205  0.516660  1.239929  1.280488\n",
       "15  0.499679  2.770794  0.755425  0.658904  1.235390\n",
       "16  0.872331  0.105081  0.184072  1.577753  0.288048\n",
       "17  0.436155  1.280991  1.146176  0.845996  0.624994\n",
       "18  1.334142  0.451530  0.820653  1.666406  0.192700\n",
       "19  0.891630  1.050295  0.819083  0.430019  0.698099\n",
       "20  1.232007  2.509385  0.927012  0.732227  0.342415\n",
       "21  1.075280  1.516186  0.675206  1.677046  0.280890\n",
       "22  1.032326  0.384176  0.412486  0.692760  1.464025\n",
       "23  0.370231  0.184878  0.975186  0.839534  0.176768\n",
       "24  1.663499  0.901120  2.604662  0.091635  1.252979\n",
       "25  0.790200  0.654824  0.854029  1.618502  2.013986\n",
       "26  0.511508  2.390943  0.919061  0.454976  0.162403\n",
       "27  0.597179  1.254075  1.802252  0.519484  0.309614\n",
       "28  0.650891  1.290334  1.199835  2.126916  1.293795\n",
       "29  1.152010  0.443438  0.702191  0.097574  0.653328\n",
       "30  0.664017  0.636770  0.224526  0.107301  0.567256\n",
       "31  1.264749  0.435280  0.389008  1.551867  2.349072\n",
       "32  0.977684  0.268559  0.333760  0.374266  0.928952\n",
       "33  0.216525  2.155213  0.910003  0.068669  1.244673\n",
       "34  0.235905  0.283328  0.332820  0.648496  1.393326\n",
       "35  0.112259  0.217724  0.643030  0.245410  0.194537\n",
       "36  0.001487  0.890472  1.448780  0.777323  0.683359\n",
       "37  0.623042  0.943925  1.013804  0.717640  0.194999\n",
       "38  0.112248  1.470548  0.537848  0.444363  0.996791\n",
       "39  0.849544  0.322534  0.127699  1.173584  1.681623\n",
       "40  0.648293  0.786638  0.676247  0.236773  0.181931\n",
       "41  1.071692  0.161678  0.230867  0.411228  0.284903\n",
       "42  0.852741  0.840636  1.055819  0.833526  2.545327\n",
       "43  0.668232  0.436948  0.685032  1.681692  1.181071\n",
       "44  0.182787  0.728579  0.235093  0.676661  2.185343\n",
       "45  0.373373  0.932149  0.531388  0.755481  0.261038\n",
       "46  0.932654  1.799408  1.093038  0.456484  0.536017\n",
       "47  0.176215  0.597792  0.981996  0.148949  2.276791\n",
       "48  0.994787  0.235934  0.910804  0.448430  1.090172\n",
       "49  0.059705  0.347274  0.069014  0.361024  0.495073"
      ]
     },
     "metadata": {},
     "output_type": "display_data"
    }
   ],
   "source": [
    "df = pd.DataFrame(np.abs(np.random.randn(50, 5)), columns=list(string.ascii_uppercase[:5]))\n",
    "display(df)"
   ]
  },
  {
   "cell_type": "code",
   "execution_count": null,
   "metadata": {},
   "outputs": [],
   "source": []
  },
  {
   "cell_type": "code",
   "execution_count": null,
   "metadata": {},
   "outputs": [],
   "source": []
  },
  {
   "cell_type": "code",
   "execution_count": null,
   "metadata": {},
   "outputs": [],
   "source": []
  },
  {
   "cell_type": "code",
   "execution_count": null,
   "metadata": {},
   "outputs": [],
   "source": []
  },
  {
   "cell_type": "code",
   "execution_count": null,
   "metadata": {},
   "outputs": [],
   "source": []
  },
  {
   "cell_type": "code",
   "execution_count": null,
   "metadata": {},
   "outputs": [],
   "source": []
  },
  {
   "cell_type": "code",
   "execution_count": null,
   "metadata": {},
   "outputs": [],
   "source": []
  }
 ],
 "metadata": {
  "kernelspec": {
   "display_name": "Python 3",
   "language": "python",
   "name": "python3"
  },
  "language_info": {
   "codemirror_mode": {
    "name": "ipython",
    "version": 3
   },
   "file_extension": ".py",
   "mimetype": "text/x-python",
   "name": "python",
   "nbconvert_exporter": "python",
   "pygments_lexer": "ipython3",
   "version": "3.8.3"
  }
 },
 "nbformat": 4,
 "nbformat_minor": 4
}
