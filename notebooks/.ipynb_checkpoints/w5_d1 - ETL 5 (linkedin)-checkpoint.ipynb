{
 "cells": [
  {
   "cell_type": "markdown",
   "metadata": {},
   "source": [
    "# Linkedin\n",
    "\n",
    "**Trabajos.**\n",
    "\n",
    "https://www.linkedin.com/jobs/search/?geoId=105646813&keywords=data%20science&location=Espa%C3%B1a"
   ]
  },
  {
   "cell_type": "code",
   "execution_count": 1,
   "metadata": {},
   "outputs": [],
   "source": [
    "from bs4 import BeautifulSoup as bs\n",
    "import requests as req\n",
    "\n",
    "import pandas as pd\n",
    "import pymongo\n",
    "import json\n",
    "import time\n",
    "import datetime\n",
    "import matplotlib.pyplot as plt"
   ]
  },
  {
   "cell_type": "code",
   "execution_count": 24,
   "metadata": {},
   "outputs": [],
   "source": [
    "class Linkedin:\n",
    "    \n",
    "    def __init__(self):\n",
    "        \n",
    "        self.codes={'mexico':106262181, 'españa':105646813, 'usa':103644278,\n",
    "                   'brasil':106057199, 'portugal':100364837, 'alemania': 101282230,\n",
    "                   'francia':105015875, 'holanda':102890719}\n",
    "        \n",
    "    def search(self, keywords, num_pages, country, n_secs, exp):\n",
    "        \n",
    "        URL='https://www.linkedin.com/jobs/search/'\n",
    "        \n",
    "        data=[]\n",
    "        \n",
    "        for i in range(num_pages):\n",
    "            \n",
    "            scrape_url=''.join([URL, '?keywords=', keywords,    # palabras clave de busqueda\n",
    "                                     f'&location={country}',    # pais (lugar)\n",
    "                                     f'&f_TPR={n_secs}',        # segundos atras\n",
    "                                     f'&f_E={exp}',             # experiencia\n",
    "                                     f'&start={i*25}',          # numero de paginas (i), 25 anuncios por pag\n",
    "                                     f'&geoID={self.codes[country]}'])     \n",
    "            \n",
    "            page=req.get(scrape_url)\n",
    "            \n",
    "            soup=bs(page.text, 'html.parser')\n",
    "            \n",
    "            for card in soup.select('div.result-card__contents'):\n",
    "                \n",
    "                try:\n",
    "                    comp_link=card.select('a', class_='result-card__subtitle-link job-result-card__subtitle-link')[0].attrs['href']\n",
    "                except:\n",
    "                    comp_link=''\n",
    "                    \n",
    "                title=card.findChild('h3', recursive=False)\n",
    "                company=card.findChild('h4', recursive=False)\n",
    "                location=card.findChild('span', attrs={'class':\"job-result-card__location\"},recursive=True)\n",
    "                datetime=card.findChild('time', recursive=True).attrs['datetime']\n",
    "                try:\n",
    "                    desc=card.select('p')[0].text\n",
    "                except:\n",
    "                    desc=None\n",
    "                \n",
    "                \n",
    "                data.append({'title':title.string,\n",
    "                             'country': country,\n",
    "                             'location':location.string,\n",
    "                             'company':company.string,\n",
    "                             'date': datetime, \n",
    "                             'description': desc,\n",
    "                             'company_link': comp_link,\n",
    "                             'experience': exp,\n",
    "                             'keywords': keywords})\n",
    "                \n",
    "        return data"
   ]
  },
  {
   "cell_type": "code",
   "execution_count": 25,
   "metadata": {
    "scrolled": false
   },
   "outputs": [
    {
     "data": {
      "text/plain": [
       "{'title': 'Aviation Data Analyst - ALG Barcelona/Madrid',\n",
       " 'country': 'españa',\n",
       " 'location': 'Barcelona, Catalonia, Spain',\n",
       " 'company': 'ALG',\n",
       " 'date': '2020-12-18',\n",
       " 'description': 'Aviation consultancy experience is desirable but not required: Airline Business & operations, Traffic forecast, route development & ...',\n",
       " 'company_link': 'https://es.linkedin.com/company/alg?trk=public_jobs_job-result-card_result-card_subtitle-click',\n",
       " 'experience': 3,\n",
       " 'keywords': 'data'}"
      ]
     },
     "execution_count": 25,
     "metadata": {},
     "output_type": "execute_result"
    }
   ],
   "source": [
    "# keywords, num_pages, pais, segundos atras, exp\n",
    "\n",
    "Linkedin().search('data', 2, 'españa', 30000, 3)[10]"
   ]
  },
  {
   "cell_type": "code",
   "execution_count": null,
   "metadata": {
    "scrolled": true
   },
   "outputs": [],
   "source": [
    "%%time\n",
    "\n",
    "countries=['mexico', 'españa', 'usa', 'brasil', 'portugal', 'alemania', 'francia', 'holanda']\n",
    "           \n",
    "\n",
    "keywords=['web developer', 'javascript  developer', 'back-end  developer', 'front-end  developer',\n",
    "         'software engineer', 'frontend developer', 'backend developer',\n",
    "         'web designer', 'ux designer', 'web graphic designer',\n",
    "         'ux/ui designer', 'product designer',\n",
    "         'data engineer', 'data analyst','data scientist', 'database administrator']     \n",
    "\n",
    "\n",
    "results=[]\n",
    "\n",
    "for c in countries:\n",
    "    for k in keywords:\n",
    "        for ex in range(1, 4):\n",
    "            try:\n",
    "                results+=Linkedin().search(k, 5, c, 1e6, ex)\n",
    "            except:\n",
    "                continue"
   ]
  },
  {
   "cell_type": "code",
   "execution_count": 27,
   "metadata": {
    "scrolled": true
   },
   "outputs": [
    {
     "name": "stdout",
     "output_type": "stream",
     "text": [
      "CPU times: user 1.45 s, sys: 59.8 ms, total: 1.51 s\n",
      "Wall time: 17.9 s\n"
     ]
    }
   ],
   "source": [
    "%%time\n",
    "\n",
    "countries=['españa', 'portugal']\n",
    "           \n",
    "\n",
    "keywords=['data analyst','data scientist']     \n",
    "\n",
    "\n",
    "results=[]\n",
    "\n",
    "for c in countries:\n",
    "    for k in keywords:\n",
    "        for ex in range(1, 2):\n",
    "            try:\n",
    "                results+=Linkedin().search(k, 5, c, 1e2, ex)\n",
    "            except:\n",
    "                continue"
   ]
  },
  {
   "cell_type": "code",
   "execution_count": 29,
   "metadata": {
    "scrolled": false
   },
   "outputs": [
    {
     "name": "stderr",
     "output_type": "stream",
     "text": [
      "/Users/iudh/opt/anaconda3/envs/clase/lib/python3.7/site-packages/ipykernel_launcher.py:5: DeprecationWarning: update is deprecated. Use replace_one, update_one or update_many instead.\n",
      "  \"\"\"\n"
     ]
    }
   ],
   "source": [
    "cliente=pymongo.MongoClient()\n",
    "db_mongo=cliente.linkedin\n",
    "\n",
    "for e in results:\n",
    "    db_mongo.jobs.update(e, e, upsert=True)"
   ]
  },
  {
   "cell_type": "code",
   "execution_count": 64,
   "metadata": {},
   "outputs": [
    {
     "data": {
      "text/html": [
       "<div>\n",
       "<style scoped>\n",
       "    .dataframe tbody tr th:only-of-type {\n",
       "        vertical-align: middle;\n",
       "    }\n",
       "\n",
       "    .dataframe tbody tr th {\n",
       "        vertical-align: top;\n",
       "    }\n",
       "\n",
       "    .dataframe thead th {\n",
       "        text-align: right;\n",
       "    }\n",
       "</style>\n",
       "<table border=\"1\" class=\"dataframe\">\n",
       "  <thead>\n",
       "    <tr style=\"text-align: right;\">\n",
       "      <th></th>\n",
       "      <th></th>\n",
       "      <th>title</th>\n",
       "      <th>country</th>\n",
       "      <th>location</th>\n",
       "      <th>company</th>\n",
       "      <th>date</th>\n",
       "      <th>description</th>\n",
       "      <th>company_link</th>\n",
       "      <th>experience</th>\n",
       "      <th>keyword</th>\n",
       "      <th>keywords</th>\n",
       "    </tr>\n",
       "  </thead>\n",
       "  <tbody>\n",
       "    <tr>\n",
       "      <th>0</th>\n",
       "      <td>0</td>\n",
       "      <td>Frontend Developer</td>\n",
       "      <td>mexico</td>\n",
       "      <td>Hacienda San Pablo, México, Mexico</td>\n",
       "      <td>Vox Feed</td>\n",
       "      <td>2019-08-18</td>\n",
       "      <td>Passion for building interfaces that bring the...</td>\n",
       "      <td></td>\n",
       "      <td>2</td>\n",
       "      <td>web developer</td>\n",
       "      <td>NaN</td>\n",
       "    </tr>\n",
       "    <tr>\n",
       "      <th>1</th>\n",
       "      <td>1</td>\n",
       "      <td>Desarrollador Web Javascript Jr Zona Interlomas</td>\n",
       "      <td>mexico</td>\n",
       "      <td>Atizapán de Zaragoza, México, Mexico</td>\n",
       "      <td>ALIA</td>\n",
       "      <td>2019-10-22</td>\n",
       "      <td>Alia, Empresa Mexicana Enfocada En Brindar Ser...</td>\n",
       "      <td>https://mx.linkedin.com/company/alia?trk=publi...</td>\n",
       "      <td>2</td>\n",
       "      <td>web developer</td>\n",
       "      <td>NaN</td>\n",
       "    </tr>\n",
       "    <tr>\n",
       "      <th>2</th>\n",
       "      <td>2</td>\n",
       "      <td>Desarrollador web</td>\n",
       "      <td>mexico</td>\n",
       "      <td>Tlalnepantla, México, Mexico</td>\n",
       "      <td>Empresa: ACCOFF MANUFACTURERA S.C.</td>\n",
       "      <td>2020-05-11</td>\n",
       "      <td>ODesarrollo de componentes nativos con Javascr...</td>\n",
       "      <td></td>\n",
       "      <td>2</td>\n",
       "      <td>web developer</td>\n",
       "      <td>NaN</td>\n",
       "    </tr>\n",
       "    <tr>\n",
       "      <th>3</th>\n",
       "      <td>3</td>\n",
       "      <td>Desarrollador Web Javascript Jr Bilingüe - Zon...</td>\n",
       "      <td>mexico</td>\n",
       "      <td>Atizapán de Zaragoza, México, Mexico</td>\n",
       "      <td>ALIA</td>\n",
       "      <td>2019-10-09</td>\n",
       "      <td>Alia, Empresa Mexicana Enfocada En Brindar Ser...</td>\n",
       "      <td>https://mx.linkedin.com/company/alia?trk=publi...</td>\n",
       "      <td>2</td>\n",
       "      <td>web developer</td>\n",
       "      <td>NaN</td>\n",
       "    </tr>\n",
       "    <tr>\n",
       "      <th>4</th>\n",
       "      <td>4</td>\n",
       "      <td>Desarrollador web</td>\n",
       "      <td>mexico</td>\n",
       "      <td>Tlalnepantla, México, Mexico</td>\n",
       "      <td>Empresa: ACCOFF MANUFACTURERA S.C.</td>\n",
       "      <td>2020-05-14</td>\n",
       "      <td>ODesarrollo de componentes nativos con Javascr...</td>\n",
       "      <td></td>\n",
       "      <td>2</td>\n",
       "      <td>web developer</td>\n",
       "      <td>NaN</td>\n",
       "    </tr>\n",
       "  </tbody>\n",
       "</table>\n",
       "</div>"
      ],
      "text/plain": [
       "                                                  title country  \\\n",
       "0  0                                 Frontend Developer  mexico   \n",
       "1  1    Desarrollador Web Javascript Jr Zona Interlomas  mexico   \n",
       "2  2                                  Desarrollador web  mexico   \n",
       "3  3  Desarrollador Web Javascript Jr Bilingüe - Zon...  mexico   \n",
       "4  4                                  Desarrollador web  mexico   \n",
       "\n",
       "                               location                             company  \\\n",
       "0    Hacienda San Pablo, México, Mexico                            Vox Feed   \n",
       "1  Atizapán de Zaragoza, México, Mexico                                ALIA   \n",
       "2          Tlalnepantla, México, Mexico  Empresa: ACCOFF MANUFACTURERA S.C.   \n",
       "3  Atizapán de Zaragoza, México, Mexico                                ALIA   \n",
       "4          Tlalnepantla, México, Mexico  Empresa: ACCOFF MANUFACTURERA S.C.   \n",
       "\n",
       "         date                                        description  \\\n",
       "0  2019-08-18  Passion for building interfaces that bring the...   \n",
       "1  2019-10-22  Alia, Empresa Mexicana Enfocada En Brindar Ser...   \n",
       "2  2020-05-11  ODesarrollo de componentes nativos con Javascr...   \n",
       "3  2019-10-09  Alia, Empresa Mexicana Enfocada En Brindar Ser...   \n",
       "4  2020-05-14  ODesarrollo de componentes nativos con Javascr...   \n",
       "\n",
       "                                        company_link experience  \\\n",
       "0                                                             2   \n",
       "1  https://mx.linkedin.com/company/alia?trk=publi...          2   \n",
       "2                                                             2   \n",
       "3  https://mx.linkedin.com/company/alia?trk=publi...          2   \n",
       "4                                                             2   \n",
       "\n",
       "         keyword keywords  \n",
       "0  web developer      NaN  \n",
       "1  web developer      NaN  \n",
       "2  web developer      NaN  \n",
       "3  web developer      NaN  \n",
       "4  web developer      NaN  "
      ]
     },
     "execution_count": 64,
     "metadata": {},
     "output_type": "execute_result"
    }
   ],
   "source": [
    "jobs_data=list(db_mongo.jobs.find({}, {'_id':0}))\n",
    "\n",
    "df_jobs=pd.DataFrame(jobs_data)\n",
    "df_jobs.to_csv('../data/jobs.csv')\n",
    "\n",
    "df_jobs.head()"
   ]
  },
  {
   "cell_type": "markdown",
   "metadata": {},
   "source": [
    "**Salarios.**\n",
    "\n",
    "https://www.linkedin.com/salary/explorer?countryCode=es&geoId=105646813&titleId=340"
   ]
  },
  {
   "cell_type": "code",
   "execution_count": 51,
   "metadata": {},
   "outputs": [],
   "source": [
    "class Salary:\n",
    "    \n",
    "    def __init__(self):\n",
    "        \n",
    "        self.codes={'mx':103323778, 'es':105646813, 'us':103644278,\n",
    "                    'br':106057199, 'de': 101282230,\n",
    "                    'fr':105015875, 'nl':102890719}\n",
    "    \n",
    "    def get_country(self, country):\n",
    "        \n",
    "        if country=='pt':\n",
    "            country='es'\n",
    "        \n",
    "        data=[]\n",
    "        \n",
    "        # desarrollador web, desarrollador javascript, desarrollador back-end, desarrollador front-end,\n",
    "        # diseñador web, diseñador ux, diseñador grafico web,\n",
    "        # ingeniero datos, analista datos, cientifico datos, administrador base de datos\n",
    "        JOBS=[100, 25170, 25194, 3172, 160, 3114, 1148, 2732, 340, 25190, 132]\n",
    "        \n",
    "        URL='https://www.linkedin.com/salary/explorer?'\n",
    "\n",
    "        low=[]\n",
    "        median=[]\n",
    "        high=[]\n",
    "        name=[]\n",
    "        \n",
    "        for job in JOBS:\n",
    "            \n",
    "            time.sleep(1)\n",
    "            \n",
    "            scrape_url=''.join([URL, 'countryCode={}'.format(country),\n",
    "                                     '&titleId={}'.format(job),\n",
    "                                     '&geoId={}'.format(self.codes[country])])\n",
    "\n",
    "            page = req.get(scrape_url)\n",
    "\n",
    "            soup = bs(page.text, 'html.parser')\n",
    "            print(soup.select('code'))\n",
    "            dictio=json.loads(soup.select('code')[8].text.strip())\n",
    "            try:\n",
    "                low=' '.join(list(dictio['elements'][0]['baseCompensation']['lowEnd'].values())[::-1])\n",
    "                median=' '.join(list(dictio['elements'][0]['baseCompensation']['median'].values())[::-1])\n",
    "                high=' '.join(list(dictio['elements'][0]['baseCompensation']['highEnd'].values())[::-1])\n",
    "                name=dictio['metadata']['cohortRequested']['title']['localizedName']\n",
    "            except:\n",
    "                pass\n",
    "            \n",
    "        \n",
    "            data.append({'Job_position'  : name, \n",
    "                        'LowEnd_salary'  : low, \n",
    "                        'Median_salary'  : median,\n",
    "                        'HighEnd_salary' : high,\n",
    "                        'Country': country,\n",
    "                        'datetime': datetime.datetime.today()})\n",
    "            \n",
    "        \n",
    "        return data"
   ]
  },
  {
   "cell_type": "code",
   "execution_count": 53,
   "metadata": {},
   "outputs": [],
   "source": [
    "#Salary().get_country('mx')"
   ]
  },
  {
   "cell_type": "markdown",
   "metadata": {},
   "source": [
    "## Plots"
   ]
  },
  {
   "cell_type": "code",
   "execution_count": 65,
   "metadata": {},
   "outputs": [
    {
     "data": {
      "text/html": [
       "<div>\n",
       "<style scoped>\n",
       "    .dataframe tbody tr th:only-of-type {\n",
       "        vertical-align: middle;\n",
       "    }\n",
       "\n",
       "    .dataframe tbody tr th {\n",
       "        vertical-align: top;\n",
       "    }\n",
       "\n",
       "    .dataframe thead th {\n",
       "        text-align: right;\n",
       "    }\n",
       "</style>\n",
       "<table border=\"1\" class=\"dataframe\">\n",
       "  <thead>\n",
       "    <tr style=\"text-align: right;\">\n",
       "      <th></th>\n",
       "      <th>title</th>\n",
       "      <th>country</th>\n",
       "      <th>location</th>\n",
       "      <th>company</th>\n",
       "      <th>date</th>\n",
       "      <th>description</th>\n",
       "      <th>company_link</th>\n",
       "      <th>experience</th>\n",
       "      <th>keyword</th>\n",
       "    </tr>\n",
       "  </thead>\n",
       "  <tbody>\n",
       "    <tr>\n",
       "      <th>0</th>\n",
       "      <td>Frontend Developer</td>\n",
       "      <td>mexico</td>\n",
       "      <td>Hacienda San Pablo, México, Mexico</td>\n",
       "      <td>Vox Feed</td>\n",
       "      <td>2019-08-18</td>\n",
       "      <td>Passion for building interfaces that bring the...</td>\n",
       "      <td></td>\n",
       "      <td>2</td>\n",
       "      <td>web developer</td>\n",
       "    </tr>\n",
       "    <tr>\n",
       "      <th>1</th>\n",
       "      <td>Desarrollador Web Javascript Jr Zona Interlomas</td>\n",
       "      <td>mexico</td>\n",
       "      <td>Atizapán de Zaragoza, México, Mexico</td>\n",
       "      <td>ALIA</td>\n",
       "      <td>2019-10-22</td>\n",
       "      <td>Alia, Empresa Mexicana Enfocada En Brindar Ser...</td>\n",
       "      <td>https://mx.linkedin.com/company/alia?trk=publi...</td>\n",
       "      <td>2</td>\n",
       "      <td>web developer</td>\n",
       "    </tr>\n",
       "    <tr>\n",
       "      <th>2</th>\n",
       "      <td>Desarrollador web</td>\n",
       "      <td>mexico</td>\n",
       "      <td>Tlalnepantla, México, Mexico</td>\n",
       "      <td>Empresa: ACCOFF MANUFACTURERA S.C.</td>\n",
       "      <td>2020-05-11</td>\n",
       "      <td>ODesarrollo de componentes nativos con Javascr...</td>\n",
       "      <td></td>\n",
       "      <td>2</td>\n",
       "      <td>web developer</td>\n",
       "    </tr>\n",
       "    <tr>\n",
       "      <th>3</th>\n",
       "      <td>Desarrollador Web Javascript Jr Bilingüe - Zon...</td>\n",
       "      <td>mexico</td>\n",
       "      <td>Atizapán de Zaragoza, México, Mexico</td>\n",
       "      <td>ALIA</td>\n",
       "      <td>2019-10-09</td>\n",
       "      <td>Alia, Empresa Mexicana Enfocada En Brindar Ser...</td>\n",
       "      <td>https://mx.linkedin.com/company/alia?trk=publi...</td>\n",
       "      <td>2</td>\n",
       "      <td>web developer</td>\n",
       "    </tr>\n",
       "    <tr>\n",
       "      <th>4</th>\n",
       "      <td>Desarrollador web</td>\n",
       "      <td>mexico</td>\n",
       "      <td>Tlalnepantla, México, Mexico</td>\n",
       "      <td>Empresa: ACCOFF MANUFACTURERA S.C.</td>\n",
       "      <td>2020-05-14</td>\n",
       "      <td>ODesarrollo de componentes nativos con Javascr...</td>\n",
       "      <td></td>\n",
       "      <td>2</td>\n",
       "      <td>web developer</td>\n",
       "    </tr>\n",
       "  </tbody>\n",
       "</table>\n",
       "</div>"
      ],
      "text/plain": [
       "                                               title country  \\\n",
       "0                                 Frontend Developer  mexico   \n",
       "1    Desarrollador Web Javascript Jr Zona Interlomas  mexico   \n",
       "2                                  Desarrollador web  mexico   \n",
       "3  Desarrollador Web Javascript Jr Bilingüe - Zon...  mexico   \n",
       "4                                  Desarrollador web  mexico   \n",
       "\n",
       "                               location                             company  \\\n",
       "0    Hacienda San Pablo, México, Mexico                            Vox Feed   \n",
       "1  Atizapán de Zaragoza, México, Mexico                                ALIA   \n",
       "2          Tlalnepantla, México, Mexico  Empresa: ACCOFF MANUFACTURERA S.C.   \n",
       "3  Atizapán de Zaragoza, México, Mexico                                ALIA   \n",
       "4          Tlalnepantla, México, Mexico  Empresa: ACCOFF MANUFACTURERA S.C.   \n",
       "\n",
       "         date                                        description  \\\n",
       "0  2019-08-18  Passion for building interfaces that bring the...   \n",
       "1  2019-10-22  Alia, Empresa Mexicana Enfocada En Brindar Ser...   \n",
       "2  2020-05-11  ODesarrollo de componentes nativos con Javascr...   \n",
       "3  2019-10-09  Alia, Empresa Mexicana Enfocada En Brindar Ser...   \n",
       "4  2020-05-14  ODesarrollo de componentes nativos con Javascr...   \n",
       "\n",
       "                                        company_link experience        keyword  \n",
       "0                                                             2  web developer  \n",
       "1  https://mx.linkedin.com/company/alia?trk=publi...          2  web developer  \n",
       "2                                                             2  web developer  \n",
       "3  https://mx.linkedin.com/company/alia?trk=publi...          2  web developer  \n",
       "4                                                             2  web developer  "
      ]
     },
     "execution_count": 65,
     "metadata": {},
     "output_type": "execute_result"
    }
   ],
   "source": [
    "df_jobs=df_jobs.drop(columns=['','keywords'])\n",
    "df_jobs.head()"
   ]
  },
  {
   "cell_type": "code",
   "execution_count": 66,
   "metadata": {},
   "outputs": [],
   "source": [
    "def by_date(df, country, key=None):\n",
    "    \n",
    "    df=df[df.country=='españa']\n",
    "    \n",
    "    df=df[(df.company_link!='')&(df.description!='None')]\\\n",
    "            .sort_values(by='date', ascending=True)\\\n",
    "            .dropna().drop_duplicates(keep='first')\n",
    "    \n",
    "    date=df.date.unique()\n",
    "    \n",
    "    if key==None:\n",
    "        data=['data engineer', 'data analyst','data scientist', 'database administrator']\n",
    "        \n",
    "        data_df=df[df.keyword.isin(data)].groupby('date').count().title.values\n",
    "        title='data'\n",
    "        \n",
    "    else:\n",
    "        data_df=df[df.keyword==key].groupby('date').count().title.values\n",
    "        title=key\n",
    "        \n",
    "    fig, ax=plt.subplots(figsize=(12,7))\n",
    "    plt.plot(date[-len(data_df):], data_df, c='b', label='jobs per day')\n",
    "    ax.xaxis.set_major_locator(plt.MaxNLocator(12))\n",
    "    plt.ylabel('# jobs')\n",
    "    plt.xlabel('date')\n",
    "    plt.title('Number of jobs {} - {}'.format(title, country))\n",
    "    plt.xticks(rotation=45)\n",
    "    plt.legend()\n",
    "    plt.show();"
   ]
  },
  {
   "cell_type": "code",
   "execution_count": 68,
   "metadata": {},
   "outputs": [
    {
     "data": {
      "image/png": "[encoded data removed]",
      "text/plain": [
       "<Figure size 864x504 with 1 Axes>"
      ]
     },
     "metadata": {
      "needs_background": "light"
     },
     "output_type": "display_data"
    }
   ],
   "source": [
    "by_date(df_jobs, 'españa')"
   ]
  },
  {
   "cell_type": "code",
   "execution_count": 69,
   "metadata": {},
   "outputs": [
    {
     "data": {
      "text/plain": [
       "118587"
      ]
     },
     "execution_count": 69,
     "metadata": {},
     "output_type": "execute_result"
    }
   ],
   "source": [
    "len(df_jobs)"
   ]
  },
  {
   "cell_type": "code",
   "execution_count": 70,
   "metadata": {},
   "outputs": [],
   "source": [
    "def by_country(df):\n",
    "    fig, ax=plt.subplots(figsize=(12,7))\n",
    "    df.groupby('country').count()['title'].plot(kind='bar', \n",
    "                                                color=['r','g','b','c','m','y'])\n",
    "    plt.xticks(rotation=45)\n",
    "    plt.ylabel('# jobs')\n",
    "    plt.show();"
   ]
  },
  {
   "cell_type": "code",
   "execution_count": 71,
   "metadata": {},
   "outputs": [
    {
     "data": {
      "image/png": "[encoded data removed]",
      "text/plain": [
       "<Figure size 864x504 with 1 Axes>"
      ]
     },
     "metadata": {
      "needs_background": "light"
     },
     "output_type": "display_data"
    }
   ],
   "source": [
    "by_country(df_jobs)"
   ]
  },
  {
   "cell_type": "code",
   "execution_count": null,
   "metadata": {},
   "outputs": [],
   "source": []
  }
 ],
 "metadata": {
  "kernelspec": {
   "display_name": "clase",
   "language": "python",
   "name": "clase"
  },
  "language_info": {
   "codemirror_mode": {
    "name": "ipython",
    "version": 3
   },
   "file_extension": ".py",
   "mimetype": "text/x-python",
   "name": "python",
   "nbconvert_exporter": "python",
   "pygments_lexer": "ipython3",
   "version": "3.7.9"
  }
 },
 "nbformat": 4,
 "nbformat_minor": 4
}
